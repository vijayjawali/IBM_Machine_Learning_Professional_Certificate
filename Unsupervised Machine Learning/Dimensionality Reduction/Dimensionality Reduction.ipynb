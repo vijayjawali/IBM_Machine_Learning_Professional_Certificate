{
 "cells": [
  {
   "cell_type": "markdown",
   "metadata": {},
   "source": [
    "## Dimensionality Reduction"
   ]
  },
  {
   "cell_type": "markdown",
   "metadata": {},
   "source": [
    "<img src = \"Dimensionality Reduction.jpg\">\n",
    "<img src = \"Dimensionality Reduction1.jpg\">\n",
    "<img src = \"Dimensionality Reduction2.jpg\">\n",
    "<img src = \"Dimensionality Reduction3.jpg\">\n",
    "<img src = \"Dimensionality Reduction4.jpg\">\n",
    "<img src = \"Dimensionality Reduction5.jpg\">\n",
    "<img src = \"Dimensionality Reduction6.jpg\">\n",
    "<img src = \"Dimensionality Reduction7.jpg\">\n",
    "<img src = \"Dimensionality Reduction8.jpg\">\n",
    "<img src = \"Dimensionality Reduction9.jpg\">\n",
    "<img src = \"Dimensionality Reduction10.jpg\">\n",
    "<img src = \"Dimensionality Reduction11.jpg\">\n",
    "<img src = \"Dimensionality Reduction12.jpg\">\n",
    "<img src = \"Dimensionality Reduction13.jpg\">\n",
    "<img src = \"Dimensionality Reduction14.jpg\">\n",
    "<img src = \"Dimensionality Reduction15.jpg\">\n",
    "<img src = \"Dimensionality Reduction16.jpg\">"
   ]
  },
  {
   "cell_type": "markdown",
   "metadata": {
    "run_control": {
     "marked": true
    }
   },
   "source": [
    "# Machine Learning Foundation\n",
    "\n",
    "## Course 4, Part c: Dimensionality Reduction DEMO\n"
   ]
  },
  {
   "cell_type": "markdown",
   "metadata": {},
   "source": [
    "## Introduction\n",
    "\n",
    "We will be using customer data from a [Portuguese wholesale distributor](https://archive.ics.uci.edu/ml/datasets/Wholesale+customers?utm_medium=Exinfluencer&utm_source=Exinfluencer&utm_content=000026UJ&utm_term=10006555&utm_id=NA-SkillsNetwork-Channel-SkillsNetworkCoursesIBMML0187ENSkillsNetwork31430127-2022-01-01) for clustering. This data file is called `Wholesale_Customers_Data`.\n",
    "\n",
    "It contains the following features:\n",
    "\n",
    "*   Fresh: annual spending (m.u.) on fresh products\n",
    "*   Milk: annual spending (m.u.) on milk products\n",
    "*   Grocery: annual spending (m.u.) on grocery products\n",
    "*   Frozen: annual spending (m.u.) on frozen products\n",
    "*   Detergents_Paper: annual spending (m.u.) on detergents and paper products\n",
    "*   Delicatessen: annual spending (m.u.) on delicatessen products\n",
    "*   Channel: customer channel (1: hotel/restaurant/cafe or 2: retail)\n",
    "*   Region: customer region (1: Lisbon, 2: Porto, 3: Other)\n",
    "\n",
    "In this data, the values for all spending are given in an arbitrary unit (m.u. = monetary unit).\n"
   ]
  },
  {
   "cell_type": "code",
   "execution_count": 1,
   "metadata": {},
   "outputs": [],
   "source": [
    "def warn(*args, **kwargs):\n",
    "    pass\n",
    "import warnings\n",
    "warnings.warn = warn\n",
    "\n",
    "import seaborn as sns, pandas as pd, numpy as np"
   ]
  },
  {
   "cell_type": "code",
   "execution_count": 2,
   "metadata": {},
   "outputs": [],
   "source": [
    "import seaborn as sns\n",
    "coloribm = {\"Magenta 100\":\"2A0A16\", \"Magenta 90\":\"57002B\", \"Magenta 80\":\"760A3A\", \"Magenta 70\":\"A11950\", \"Magenta 60\":\"D12765\", \"Magenta 50\":\"EE538B\", \"Magenta 40\":\"FA75A6\", \"Magenta 30\":\"FFA0C2\", \"Magenta 20\":\"FFCFE1\", \"Magenta 10\":\"FFF0F6\", \"Purple 100\":\"1E1033\", \"Purple 90\":\"38146B\", \"Purple 80\":\"4F2196\", \"Purple 70\":\"6E32C9\", \"Purple 60\":\"8A3FFC\", \"Purple 50\":\"A66EFA\", \"Purple 40\":\"BB8EFF\", \"Purple 30\":\"D0B0FF\", \"Purple 20\":\"E6D6FF\", \"Purple 10\":\"F7F1FF\", \"Blue 100\":\"051243\", \"Blue 90\":\"061F80\", \"Blue 80\":\"0530AD\", \"Blue 70\":\"054ADA\", \"Blue 60\":\"0062FF\", \"Blue 50\":\"408BFC\", \"Blue 40\":\"6EA6FF\", \"Blue 30\":\"97C1FF\", \"Blue 20\":\"C9DEFF\", \"Blue 10\":\"EDF4FF\", \"Teal 100\":\"081A1C\", \"Teal 90\":\"003137\", \"Teal 80\":\"004548\", \"Teal 70\":\"006161\", \"Teal 60\":\"007D79\", \"Teal 50\":\"009C98\", \"Teal 40\":\"00BAB6\", \"Teal 30\":\"20D5D2\", \"Teal 20\":\"92EEEE\", \"Teal 10\":\"DBFBFB\", \"Gray 100\":\"171717\", \"Gray 90\":\"282828\", \"Gray 80\":\"3D3D3D\", \"Gray 70\":\"565656\", \"Gray 60\":\"6F6F6F\", \"Gray 50\":\"8C8C8C\", \"Gray 40\":\"A4A4A4\", \"Gray 30\":\"BEBEBE\", \"Gray 20\":\"DCDCDC\", \"Gray 10\":\"F3F3F3\"} \n",
    "colors = []\n",
    "colornum = 60\n",
    "for i in [f'Blue {colornum}', f'Teal {colornum}', f'Magenta {colornum}', f'Purple {colornum}', f'Gray {colornum}']:\n",
    "    colors.append(f'#{coloribm[i]}')\n",
    "palette = sns.color_palette(colors)"
   ]
  },
  {
   "cell_type": "code",
   "execution_count": 3,
   "metadata": {},
   "outputs": [],
   "source": [
    "import os, pandas as pd, numpy as np, seaborn as sns, matplotlib.pyplot as plt\n",
    "sns.set_palette(palette)"
   ]
  },
  {
   "cell_type": "markdown",
   "metadata": {},
   "source": [
    "## Part 1\n",
    "\n",
    "In this section, we will:\n",
    "\n",
    "*   Import the data and check the data types.\n",
    "*   Drop the channel and region columns as they won't be used since we focus on numeric columns for this example.\n",
    "*   Convert the remaining columns to floats if necessary.\n",
    "*   Copy this version of the data (using the `copy` method) to a variable to preserve it. We will be using it later.\n"
   ]
  },
  {
   "cell_type": "code",
   "execution_count": 19,
   "metadata": {},
   "outputs": [],
   "source": [
    "data = pd.read_csv('Wholesale_Customers_Data.csv', sep=',')"
   ]
  },
  {
   "cell_type": "code",
   "execution_count": 20,
   "metadata": {
    "collapsed": false,
    "jupyter": {
     "outputs_hidden": false
    }
   },
   "outputs": [
    {
     "data": {
      "text/plain": [
       "(440, 8)"
      ]
     },
     "execution_count": 20,
     "metadata": {},
     "output_type": "execute_result"
    }
   ],
   "source": [
    "data.shape"
   ]
  },
  {
   "cell_type": "code",
   "execution_count": 21,
   "metadata": {
    "collapsed": false,
    "jupyter": {
     "outputs_hidden": false
    }
   },
   "outputs": [
    {
     "data": {
      "text/html": [
       "<div>\n",
       "<style scoped>\n",
       "    .dataframe tbody tr th:only-of-type {\n",
       "        vertical-align: middle;\n",
       "    }\n",
       "\n",
       "    .dataframe tbody tr th {\n",
       "        vertical-align: top;\n",
       "    }\n",
       "\n",
       "    .dataframe thead th {\n",
       "        text-align: right;\n",
       "    }\n",
       "</style>\n",
       "<table border=\"1\" class=\"dataframe\">\n",
       "  <thead>\n",
       "    <tr style=\"text-align: right;\">\n",
       "      <th></th>\n",
       "      <th>Channel</th>\n",
       "      <th>Region</th>\n",
       "      <th>Fresh</th>\n",
       "      <th>Milk</th>\n",
       "      <th>Grocery</th>\n",
       "      <th>Frozen</th>\n",
       "      <th>Detergents_Paper</th>\n",
       "      <th>Delicassen</th>\n",
       "    </tr>\n",
       "  </thead>\n",
       "  <tbody>\n",
       "    <tr>\n",
       "      <th>0</th>\n",
       "      <td>2</td>\n",
       "      <td>3</td>\n",
       "      <td>12669</td>\n",
       "      <td>9656</td>\n",
       "      <td>7561</td>\n",
       "      <td>214</td>\n",
       "      <td>2674</td>\n",
       "      <td>1338</td>\n",
       "    </tr>\n",
       "    <tr>\n",
       "      <th>1</th>\n",
       "      <td>2</td>\n",
       "      <td>3</td>\n",
       "      <td>7057</td>\n",
       "      <td>9810</td>\n",
       "      <td>9568</td>\n",
       "      <td>1762</td>\n",
       "      <td>3293</td>\n",
       "      <td>1776</td>\n",
       "    </tr>\n",
       "    <tr>\n",
       "      <th>2</th>\n",
       "      <td>2</td>\n",
       "      <td>3</td>\n",
       "      <td>6353</td>\n",
       "      <td>8808</td>\n",
       "      <td>7684</td>\n",
       "      <td>2405</td>\n",
       "      <td>3516</td>\n",
       "      <td>7844</td>\n",
       "    </tr>\n",
       "    <tr>\n",
       "      <th>3</th>\n",
       "      <td>1</td>\n",
       "      <td>3</td>\n",
       "      <td>13265</td>\n",
       "      <td>1196</td>\n",
       "      <td>4221</td>\n",
       "      <td>6404</td>\n",
       "      <td>507</td>\n",
       "      <td>1788</td>\n",
       "    </tr>\n",
       "    <tr>\n",
       "      <th>4</th>\n",
       "      <td>2</td>\n",
       "      <td>3</td>\n",
       "      <td>22615</td>\n",
       "      <td>5410</td>\n",
       "      <td>7198</td>\n",
       "      <td>3915</td>\n",
       "      <td>1777</td>\n",
       "      <td>5185</td>\n",
       "    </tr>\n",
       "  </tbody>\n",
       "</table>\n",
       "</div>"
      ],
      "text/plain": [
       "   Channel  Region  Fresh  Milk  Grocery  Frozen  Detergents_Paper  Delicassen\n",
       "0        2       3  12669  9656     7561     214              2674        1338\n",
       "1        2       3   7057  9810     9568    1762              3293        1776\n",
       "2        2       3   6353  8808     7684    2405              3516        7844\n",
       "3        1       3  13265  1196     4221    6404               507        1788\n",
       "4        2       3  22615  5410     7198    3915              1777        5185"
      ]
     },
     "execution_count": 21,
     "metadata": {},
     "output_type": "execute_result"
    }
   ],
   "source": [
    "data.head()"
   ]
  },
  {
   "cell_type": "code",
   "execution_count": 22,
   "metadata": {},
   "outputs": [],
   "source": [
    "data = data.drop(['Channel', 'Region'], axis=1)"
   ]
  },
  {
   "cell_type": "code",
   "execution_count": 23,
   "metadata": {
    "collapsed": false,
    "jupyter": {
     "outputs_hidden": false
    }
   },
   "outputs": [
    {
     "data": {
      "text/plain": [
       "Fresh               int64\n",
       "Milk                int64\n",
       "Grocery             int64\n",
       "Frozen              int64\n",
       "Detergents_Paper    int64\n",
       "Delicassen          int64\n",
       "dtype: object"
      ]
     },
     "execution_count": 23,
     "metadata": {},
     "output_type": "execute_result"
    }
   ],
   "source": [
    "data.dtypes"
   ]
  },
  {
   "cell_type": "code",
   "execution_count": 24,
   "metadata": {},
   "outputs": [],
   "source": [
    "# Convert to floats\n",
    "for col in data.columns:\n",
    "    data[col] = data[col].astype(np.float)"
   ]
  },
  {
   "cell_type": "markdown",
   "metadata": {},
   "source": [
    "Preserve the original data.\n"
   ]
  },
  {
   "cell_type": "code",
   "execution_count": 25,
   "metadata": {},
   "outputs": [],
   "source": [
    "data_orig = data.copy()"
   ]
  },
  {
   "cell_type": "markdown",
   "metadata": {},
   "source": [
    "## Part 2\n",
    "\n",
    "As with the previous lesson, we need to ensure the data is scaled and (relatively) normally distributed.\n",
    "\n",
    "*   Examine the correlation and skew.\n",
    "*   Perform any transformations and scale data using your favorite scaling method.\n",
    "*   View the pairwise correlation plots of the new data.\n"
   ]
  },
  {
   "cell_type": "code",
   "execution_count": 26,
   "metadata": {
    "collapsed": false,
    "jupyter": {
     "outputs_hidden": false
    }
   },
   "outputs": [
    {
     "data": {
      "text/html": [
       "<div>\n",
       "<style scoped>\n",
       "    .dataframe tbody tr th:only-of-type {\n",
       "        vertical-align: middle;\n",
       "    }\n",
       "\n",
       "    .dataframe tbody tr th {\n",
       "        vertical-align: top;\n",
       "    }\n",
       "\n",
       "    .dataframe thead th {\n",
       "        text-align: right;\n",
       "    }\n",
       "</style>\n",
       "<table border=\"1\" class=\"dataframe\">\n",
       "  <thead>\n",
       "    <tr style=\"text-align: right;\">\n",
       "      <th></th>\n",
       "      <th>Fresh</th>\n",
       "      <th>Milk</th>\n",
       "      <th>Grocery</th>\n",
       "      <th>Frozen</th>\n",
       "      <th>Detergents_Paper</th>\n",
       "      <th>Delicassen</th>\n",
       "    </tr>\n",
       "  </thead>\n",
       "  <tbody>\n",
       "    <tr>\n",
       "      <th>Fresh</th>\n",
       "      <td>0.000000</td>\n",
       "      <td>0.100510</td>\n",
       "      <td>-0.011854</td>\n",
       "      <td>0.345881</td>\n",
       "      <td>-0.101953</td>\n",
       "      <td>0.244690</td>\n",
       "    </tr>\n",
       "    <tr>\n",
       "      <th>Milk</th>\n",
       "      <td>0.100510</td>\n",
       "      <td>0.000000</td>\n",
       "      <td>0.728335</td>\n",
       "      <td>0.123994</td>\n",
       "      <td>0.661816</td>\n",
       "      <td>0.406368</td>\n",
       "    </tr>\n",
       "    <tr>\n",
       "      <th>Grocery</th>\n",
       "      <td>-0.011854</td>\n",
       "      <td>0.728335</td>\n",
       "      <td>0.000000</td>\n",
       "      <td>-0.040193</td>\n",
       "      <td>0.924641</td>\n",
       "      <td>0.205497</td>\n",
       "    </tr>\n",
       "    <tr>\n",
       "      <th>Frozen</th>\n",
       "      <td>0.345881</td>\n",
       "      <td>0.123994</td>\n",
       "      <td>-0.040193</td>\n",
       "      <td>0.000000</td>\n",
       "      <td>-0.131525</td>\n",
       "      <td>0.390947</td>\n",
       "    </tr>\n",
       "    <tr>\n",
       "      <th>Detergents_Paper</th>\n",
       "      <td>-0.101953</td>\n",
       "      <td>0.661816</td>\n",
       "      <td>0.924641</td>\n",
       "      <td>-0.131525</td>\n",
       "      <td>0.000000</td>\n",
       "      <td>0.069291</td>\n",
       "    </tr>\n",
       "    <tr>\n",
       "      <th>Delicassen</th>\n",
       "      <td>0.244690</td>\n",
       "      <td>0.406368</td>\n",
       "      <td>0.205497</td>\n",
       "      <td>0.390947</td>\n",
       "      <td>0.069291</td>\n",
       "      <td>0.000000</td>\n",
       "    </tr>\n",
       "  </tbody>\n",
       "</table>\n",
       "</div>"
      ],
      "text/plain": [
       "                     Fresh      Milk   Grocery    Frozen  Detergents_Paper  \\\n",
       "Fresh             0.000000  0.100510 -0.011854  0.345881         -0.101953   \n",
       "Milk              0.100510  0.000000  0.728335  0.123994          0.661816   \n",
       "Grocery          -0.011854  0.728335  0.000000 -0.040193          0.924641   \n",
       "Frozen            0.345881  0.123994 -0.040193  0.000000         -0.131525   \n",
       "Detergents_Paper -0.101953  0.661816  0.924641 -0.131525          0.000000   \n",
       "Delicassen        0.244690  0.406368  0.205497  0.390947          0.069291   \n",
       "\n",
       "                  Delicassen  \n",
       "Fresh               0.244690  \n",
       "Milk                0.406368  \n",
       "Grocery             0.205497  \n",
       "Frozen              0.390947  \n",
       "Detergents_Paper    0.069291  \n",
       "Delicassen          0.000000  "
      ]
     },
     "execution_count": 26,
     "metadata": {},
     "output_type": "execute_result"
    }
   ],
   "source": [
    "corr_mat = data.corr()\n",
    "\n",
    "# Strip the diagonal for future examination\n",
    "for x in range(corr_mat.shape[0]):\n",
    "    corr_mat.iloc[x,x] = 0.0\n",
    "    \n",
    "corr_mat"
   ]
  },
  {
   "cell_type": "markdown",
   "metadata": {},
   "source": [
    "As before, the two categories with their respective most strongly correlated variable.\n"
   ]
  },
  {
   "cell_type": "code",
   "execution_count": 27,
   "metadata": {
    "collapsed": false,
    "jupyter": {
     "outputs_hidden": false
    }
   },
   "outputs": [
    {
     "data": {
      "text/plain": [
       "Fresh                         Frozen\n",
       "Milk                         Grocery\n",
       "Grocery             Detergents_Paper\n",
       "Frozen                    Delicassen\n",
       "Detergents_Paper             Grocery\n",
       "Delicassen                      Milk\n",
       "dtype: object"
      ]
     },
     "execution_count": 27,
     "metadata": {},
     "output_type": "execute_result"
    }
   ],
   "source": [
    "corr_mat.abs().idxmax()"
   ]
  },
  {
   "cell_type": "markdown",
   "metadata": {},
   "source": [
    "Examine the skew values and log transform. Looks like all of them need it.\n"
   ]
  },
  {
   "cell_type": "code",
   "execution_count": 28,
   "metadata": {
    "collapsed": false,
    "jupyter": {
     "outputs_hidden": false
    }
   },
   "outputs": [
    {
     "data": {
      "text/plain": [
       "Delicassen          11.151586\n",
       "Frozen               5.907986\n",
       "Milk                 4.053755\n",
       "Detergents_Paper     3.631851\n",
       "Grocery              3.587429\n",
       "Fresh                2.561323\n",
       "dtype: float64"
      ]
     },
     "execution_count": 28,
     "metadata": {},
     "output_type": "execute_result"
    }
   ],
   "source": [
    "log_columns = data.skew().sort_values(ascending=False)\n",
    "log_columns = log_columns.loc[log_columns > 0.75] \n",
    "\n",
    "log_columns"
   ]
  },
  {
   "cell_type": "code",
   "execution_count": 29,
   "metadata": {},
   "outputs": [],
   "source": [
    "# The log transformations\n",
    "for col in log_columns.index:\n",
    "    data[col] = np.log1p(data[col])"
   ]
  },
  {
   "cell_type": "markdown",
   "metadata": {},
   "source": [
    "Scale the data again. Let's use `MinMaxScaler` this time just to mix things up.\n"
   ]
  },
  {
   "cell_type": "code",
   "execution_count": 30,
   "metadata": {
    "collapsed": false,
    "jupyter": {
     "outputs_hidden": false
    }
   },
   "outputs": [],
   "source": [
    "from sklearn.preprocessing import MinMaxScaler\n",
    "\n",
    "mms = MinMaxScaler()\n",
    "\n",
    "for col in data.columns:\n",
    "    data[col] = mms.fit_transform(data[[col]]).squeeze()"
   ]
  },
  {
   "cell_type": "markdown",
   "metadata": {},
   "source": [
    "Visualize the relationship between the variables.\n"
   ]
  },
  {
   "cell_type": "code",
   "execution_count": 31,
   "metadata": {
    "collapsed": false,
    "jupyter": {
     "outputs_hidden": false
    }
   },
   "outputs": [
    {
     "data": {
      "text/plain": [
       "<seaborn.axisgrid.PairGrid at 0x272e72abcc0>"
      ]
     },
     "execution_count": 31,
     "metadata": {},
     "output_type": "execute_result"
    },
    {
     "data": {
      "image/png": "[encoded data removed]",
      "text/plain": [
       "<Figure size 1080x1080 with 42 Axes>"
      ]
     },
     "metadata": {},
     "output_type": "display_data"
    }
   ],
   "source": [
    "sns.set_context('notebook')\n",
    "sns.set_style('white')\n",
    "sns.pairplot(data)"
   ]
  },
  {
   "cell_type": "markdown",
   "metadata": {},
   "source": [
    "## Part 3\n",
    "\n",
    "In this section, we will:\n",
    "\n",
    "*   Using Scikit-learn's [pipeline function](http://scikit-learn.org/stable/modules/pipeline.html?utm_medium=Exinfluencer&utm_source=Exinfluencer&utm_content=000026UJ&utm_term=10006555&utm_id=NA-SkillsNetwork-Channel-SkillsNetworkCoursesIBMML0187ENSkillsNetwork31430127-2022-01-01), recreate the data pre-processing scheme above (transformation and scaling) using a pipeline. If you used a non-Scikit learn function to transform the data (e.g. NumPy's log function), checkout  the custom transformer class called [`FunctionTransformer`](http://scikit-learn.org/stable/modules/preprocessing.html?utm_medium=Exinfluencer&utm_source=Exinfluencer&utm_content=000026UJ&utm_term=10006555&utm_id=NA-SkillsNetwork-Channel-SkillsNetworkCoursesIBMML0187ENSkillsNetwork31430127-2022-01-01#custom-transformers).\n",
    "*   Use the pipeline to transform the original data that was stored at the end of question 1.\n",
    "*   Compare the results to the original data to verify that everything worked.\n",
    "\n",
    "*Note:* Scikit-learn has a more flexible `Pipeline` function and a shortcut version called `make_pipeline`. Either can be used. Also, if different transformations need to be performed on the data, a [`FeatureUnion`](http://scikit-learn.org/stable/modules/pipeline.html?utm_medium=Exinfluencer&utm_source=Exinfluencer&utm_content=000026UJ&utm_term=10006555&utm_id=NA-SkillsNetwork-Channel-SkillsNetworkCoursesIBMML0187ENSkillsNetwork31430127-2022-01-01#featureunion-composite-feature-spaces) can be used.\n"
   ]
  },
  {
   "cell_type": "code",
   "execution_count": 32,
   "metadata": {
    "collapsed": false,
    "jupyter": {
     "outputs_hidden": false
    }
   },
   "outputs": [],
   "source": [
    "from sklearn.preprocessing import FunctionTransformer\n",
    "from sklearn.pipeline import Pipeline\n",
    "\n",
    "# The custom NumPy log transformer\n",
    "log_transformer = FunctionTransformer(np.log1p)\n",
    "\n",
    "# The pipeline\n",
    "estimators = [('log1p', log_transformer), ('minmaxscale', MinMaxScaler())]\n",
    "pipeline = Pipeline(estimators)\n",
    "\n",
    "# Convert the original data\n",
    "data_pipe = pipeline.fit_transform(data_orig)"
   ]
  },
  {
   "cell_type": "markdown",
   "metadata": {},
   "source": [
    "The results are identical. Note that machine learning models and grid searches can also be added to the pipeline (and in fact, usually are.)\n"
   ]
  },
  {
   "cell_type": "code",
   "execution_count": 33,
   "metadata": {
    "collapsed": false,
    "jupyter": {
     "outputs_hidden": false
    }
   },
   "outputs": [
    {
     "data": {
      "text/plain": [
       "True"
      ]
     },
     "execution_count": 33,
     "metadata": {},
     "output_type": "execute_result"
    }
   ],
   "source": [
    "np.allclose(data_pipe, data)"
   ]
  },
  {
   "cell_type": "markdown",
   "metadata": {},
   "source": [
    "## Part 4\n",
    "\n",
    "In this section, we will:\n",
    "\n",
    "*   Perform PCA with `n_components` ranging from 1 to 5.\n",
    "*   Store the amount of explained variance for each number of dimensions.\n",
    "*   Also store the feature importance for each number of dimensions. *Hint:* PCA doesn't explicitly provide this after a model is fit, but the `components_` properties can be used to determine something that approximates importance. How you decided to do so is entirely up to you.\n",
    "*   Plot the explained variance and feature importances.\n"
   ]
  },
  {
   "cell_type": "code",
   "execution_count": 34,
   "metadata": {
    "collapsed": false,
    "jupyter": {
     "outputs_hidden": false
    }
   },
   "outputs": [
    {
     "data": {
      "text/html": [
       "<div>\n",
       "<style scoped>\n",
       "    .dataframe tbody tr th:only-of-type {\n",
       "        vertical-align: middle;\n",
       "    }\n",
       "\n",
       "    .dataframe tbody tr th {\n",
       "        vertical-align: top;\n",
       "    }\n",
       "\n",
       "    .dataframe thead th {\n",
       "        text-align: right;\n",
       "    }\n",
       "</style>\n",
       "<table border=\"1\" class=\"dataframe\">\n",
       "  <thead>\n",
       "    <tr style=\"text-align: right;\">\n",
       "      <th></th>\n",
       "      <th>model</th>\n",
       "      <th>var</th>\n",
       "    </tr>\n",
       "    <tr>\n",
       "      <th>n</th>\n",
       "      <th></th>\n",
       "      <th></th>\n",
       "    </tr>\n",
       "  </thead>\n",
       "  <tbody>\n",
       "    <tr>\n",
       "      <th>1</th>\n",
       "      <td>PCA(n_components=1)</td>\n",
       "      <td>0.448011</td>\n",
       "    </tr>\n",
       "    <tr>\n",
       "      <th>2</th>\n",
       "      <td>PCA(n_components=2)</td>\n",
       "      <td>0.72099</td>\n",
       "    </tr>\n",
       "    <tr>\n",
       "      <th>3</th>\n",
       "      <td>PCA(n_components=3)</td>\n",
       "      <td>0.827534</td>\n",
       "    </tr>\n",
       "    <tr>\n",
       "      <th>4</th>\n",
       "      <td>PCA(n_components=4)</td>\n",
       "      <td>0.923045</td>\n",
       "    </tr>\n",
       "    <tr>\n",
       "      <th>5</th>\n",
       "      <td>PCA(n_components=5)</td>\n",
       "      <td>0.979574</td>\n",
       "    </tr>\n",
       "  </tbody>\n",
       "</table>\n",
       "</div>"
      ],
      "text/plain": [
       "                 model       var\n",
       "n                               \n",
       "1  PCA(n_components=1)  0.448011\n",
       "2  PCA(n_components=2)   0.72099\n",
       "3  PCA(n_components=3)  0.827534\n",
       "4  PCA(n_components=4)  0.923045\n",
       "5  PCA(n_components=5)  0.979574"
      ]
     },
     "execution_count": 34,
     "metadata": {},
     "output_type": "execute_result"
    }
   ],
   "source": [
    "from sklearn.decomposition import PCA\n",
    "\n",
    "pca_list = list()\n",
    "feature_weight_list = list()\n",
    "\n",
    "# Fit a range of PCA models\n",
    "\n",
    "for n in range(1, 6):\n",
    "    \n",
    "    # Create and fit the model\n",
    "    PCAmod = PCA(n_components=n)\n",
    "    PCAmod.fit(data)\n",
    "    \n",
    "    # Store the model and variance\n",
    "    pca_list.append(pd.Series({'n':n, 'model':PCAmod,\n",
    "                               'var': PCAmod.explained_variance_ratio_.sum()}))\n",
    "    \n",
    "    # Calculate and store feature importances\n",
    "    abs_feature_values = np.abs(PCAmod.components_).sum(axis=0)\n",
    "    feature_weight_list.append(pd.DataFrame({'n':n, \n",
    "                                             'features': data.columns,\n",
    "                                             'values':abs_feature_values/abs_feature_values.sum()}))\n",
    "    \n",
    "pca_df = pd.concat(pca_list, axis=1).T.set_index('n')\n",
    "pca_df"
   ]
  },
  {
   "cell_type": "markdown",
   "metadata": {},
   "source": [
    "Create a table of feature importances for each data column.\n"
   ]
  },
  {
   "cell_type": "code",
   "execution_count": 35,
   "metadata": {
    "collapsed": false,
    "jupyter": {
     "outputs_hidden": false
    }
   },
   "outputs": [
    {
     "data": {
      "text/html": [
       "<div>\n",
       "<style scoped>\n",
       "    .dataframe tbody tr th:only-of-type {\n",
       "        vertical-align: middle;\n",
       "    }\n",
       "\n",
       "    .dataframe tbody tr th {\n",
       "        vertical-align: top;\n",
       "    }\n",
       "\n",
       "    .dataframe thead th {\n",
       "        text-align: right;\n",
       "    }\n",
       "</style>\n",
       "<table border=\"1\" class=\"dataframe\">\n",
       "  <thead>\n",
       "    <tr style=\"text-align: right;\">\n",
       "      <th>features</th>\n",
       "      <th>Delicassen</th>\n",
       "      <th>Detergents_Paper</th>\n",
       "      <th>Fresh</th>\n",
       "      <th>Frozen</th>\n",
       "      <th>Grocery</th>\n",
       "      <th>Milk</th>\n",
       "    </tr>\n",
       "    <tr>\n",
       "      <th>n</th>\n",
       "      <th></th>\n",
       "      <th></th>\n",
       "      <th></th>\n",
       "      <th></th>\n",
       "      <th></th>\n",
       "      <th></th>\n",
       "    </tr>\n",
       "  </thead>\n",
       "  <tbody>\n",
       "    <tr>\n",
       "      <th>1</th>\n",
       "      <td>0.071668</td>\n",
       "      <td>0.335487</td>\n",
       "      <td>0.060620</td>\n",
       "      <td>0.095979</td>\n",
       "      <td>0.190236</td>\n",
       "      <td>0.246010</td>\n",
       "    </tr>\n",
       "    <tr>\n",
       "      <th>2</th>\n",
       "      <td>0.151237</td>\n",
       "      <td>0.177519</td>\n",
       "      <td>0.158168</td>\n",
       "      <td>0.222172</td>\n",
       "      <td>0.112032</td>\n",
       "      <td>0.178872</td>\n",
       "    </tr>\n",
       "    <tr>\n",
       "      <th>3</th>\n",
       "      <td>0.165518</td>\n",
       "      <td>0.145815</td>\n",
       "      <td>0.211434</td>\n",
       "      <td>0.268363</td>\n",
       "      <td>0.084903</td>\n",
       "      <td>0.123967</td>\n",
       "    </tr>\n",
       "    <tr>\n",
       "      <th>4</th>\n",
       "      <td>0.224259</td>\n",
       "      <td>0.149981</td>\n",
       "      <td>0.239527</td>\n",
       "      <td>0.214275</td>\n",
       "      <td>0.070971</td>\n",
       "      <td>0.100987</td>\n",
       "    </tr>\n",
       "    <tr>\n",
       "      <th>5</th>\n",
       "      <td>0.211840</td>\n",
       "      <td>0.182447</td>\n",
       "      <td>0.196382</td>\n",
       "      <td>0.178104</td>\n",
       "      <td>0.067338</td>\n",
       "      <td>0.163888</td>\n",
       "    </tr>\n",
       "  </tbody>\n",
       "</table>\n",
       "</div>"
      ],
      "text/plain": [
       "features  Delicassen  Detergents_Paper     Fresh    Frozen   Grocery      Milk\n",
       "n                                                                             \n",
       "1           0.071668          0.335487  0.060620  0.095979  0.190236  0.246010\n",
       "2           0.151237          0.177519  0.158168  0.222172  0.112032  0.178872\n",
       "3           0.165518          0.145815  0.211434  0.268363  0.084903  0.123967\n",
       "4           0.224259          0.149981  0.239527  0.214275  0.070971  0.100987\n",
       "5           0.211840          0.182447  0.196382  0.178104  0.067338  0.163888"
      ]
     },
     "execution_count": 35,
     "metadata": {},
     "output_type": "execute_result"
    }
   ],
   "source": [
    "features_df = (pd.concat(feature_weight_list)\n",
    "               .pivot(index='n', columns='features', values='values'))\n",
    "\n",
    "features_df"
   ]
  },
  {
   "cell_type": "markdown",
   "metadata": {},
   "source": [
    "Create a plot of explained variances.\n"
   ]
  },
  {
   "cell_type": "code",
   "execution_count": 36,
   "metadata": {
    "collapsed": false,
    "jupyter": {
     "outputs_hidden": false
    }
   },
   "outputs": [
    {
     "data": {
      "image/png": "[encoded data removed]",
      "text/plain": [
       "<Figure size 432x288 with 1 Axes>"
      ]
     },
     "metadata": {},
     "output_type": "display_data"
    }
   ],
   "source": [
    "sns.set_context('talk')\n",
    "ax = pca_df['var'].plot(kind='bar')\n",
    "\n",
    "ax.set(xlabel='Number of dimensions',\n",
    "       ylabel='Percent explained variance',\n",
    "       title='Explained Variance vs Dimensions');"
   ]
  },
  {
   "cell_type": "markdown",
   "metadata": {},
   "source": [
    "And here's a plot of feature importances.\n"
   ]
  },
  {
   "cell_type": "code",
   "execution_count": 37,
   "metadata": {
    "collapsed": false,
    "jupyter": {
     "outputs_hidden": false
    }
   },
   "outputs": [
    {
     "data": {
      "image/png": "[encoded data removed]",
      "text/plain": [
       "<Figure size 936x576 with 1 Axes>"
      ]
     },
     "metadata": {},
     "output_type": "display_data"
    }
   ],
   "source": [
    "ax = features_df.plot(kind='bar', figsize=(13,8))\n",
    "ax.legend(loc='upper right')\n",
    "ax.set(xlabel='Number of dimensions',\n",
    "       ylabel='Relative importance',\n",
    "       title='Feature importance vs Dimensions');"
   ]
  },
  {
   "cell_type": "markdown",
   "metadata": {},
   "source": [
    "## Part 5\n",
    "\n",
    "In this section, we will:\n",
    "\n",
    "*   Fit a `KernelPCA` model with `kernel='rbf'`. You can choose how many components and what values to use for the other parameters (`rbf` refers to a Radial Basis Function kernel, and the `gamma` parameter governs scaling of this kernel and typically ranges between 0 and 1). Several other [kernels](https://scikit-learn.org/stable/modules/metrics.html?utm_medium=Exinfluencer&utm_source=Exinfluencer&utm_content=000026UJ&utm_term=10006555&utm_id=NA-SkillsNetwork-Channel-SkillsNetworkCoursesIBMML0187ENSkillsNetwork31430127-2022-01-01) can be tried, and even passed ss cross validation parameters (see this [example](https://scikit-learn.org/stable/auto_examples/model_selection/plot_grid_search_digits.html?utm_medium=Exinfluencer&utm_source=Exinfluencer&utm_content=000026UJ&utm_term=10006555&utm_id=NA-SkillsNetwork-Channel-SkillsNetworkCoursesIBMML0187ENSkillsNetwork31430127-2022-01-01)).\n",
    "*   If you want to tinker some more, use `GridSearchCV` to tune the parameters of the `KernelPCA` model.\n",
    "\n",
    "The second step is tricky since grid searches are generally used for supervised machine learning methods and rely on scoring metrics, such as accuracy, to determine the best model. However, a custom scoring function can be written for `GridSearchCV`, where larger is better for the outcome of the scoring function.\n",
    "\n",
    "What would such a metric involve for PCA? What about percent of explained variance? Or perhaps the negative mean squared error on the data once it has been transformed and then inversely transformed?\n"
   ]
  },
  {
   "cell_type": "code",
   "execution_count": 38,
   "metadata": {
    "collapsed": false,
    "jupyter": {
     "outputs_hidden": false
    }
   },
   "outputs": [
    {
     "data": {
      "text/plain": [
       "KernelPCA(fit_inverse_transform=True, gamma=1.0, kernel='rbf', n_components=4)"
      ]
     },
     "execution_count": 38,
     "metadata": {},
     "output_type": "execute_result"
    }
   ],
   "source": [
    "from sklearn.decomposition import KernelPCA\n",
    "from sklearn.model_selection import GridSearchCV\n",
    "from sklearn.metrics import mean_squared_error\n",
    "\n",
    "# Custom scorer--use negative rmse of inverse transform\n",
    "def scorer(pcamodel, X, y=None):\n",
    "\n",
    "    try:\n",
    "        X_val = X.values\n",
    "    except:\n",
    "        X_val = X\n",
    "        \n",
    "    # Calculate and inverse transform the data\n",
    "    data_inv = pcamodel.fit(X_val).transform(X_val)\n",
    "    data_inv = pcamodel.inverse_transform(data_inv)\n",
    "    \n",
    "    # The error calculation\n",
    "    mse = mean_squared_error(data_inv.ravel(), X_val.ravel())\n",
    "    \n",
    "    # Larger values are better for scorers, so take negative value\n",
    "    return -1.0 * mse\n",
    "\n",
    "# The grid search parameters\n",
    "param_grid = {'gamma':[0.001, 0.01, 0.05, 0.1, 0.5, 1.0],\n",
    "              'n_components': [2, 3, 4]}\n",
    "\n",
    "# The grid search\n",
    "kernelPCA = GridSearchCV(KernelPCA(kernel='rbf', fit_inverse_transform=True),\n",
    "                         param_grid=param_grid,\n",
    "                         scoring=scorer,\n",
    "                         n_jobs=-1)\n",
    "\n",
    "\n",
    "kernelPCA = kernelPCA.fit(data)\n",
    "\n",
    "kernelPCA.best_estimator_"
   ]
  },
  {
   "cell_type": "markdown",
   "metadata": {},
   "source": [
    "## Part 6\n",
    "\n",
    "Let's explore how our model accuracy may change if we include a `PCA` in our model building pipeline. Let's plan to use sklearn's `Pipeline` class and create a pipeline that has the following steps:\n",
    "\n",
    "<ol>\n",
    "  <li>A scaler</li>\n",
    "  <li>`PCA(n_components=n)`</li>\n",
    "  <li>`LogisticRegression`</li>\n",
    "</ol>\n",
    "\n",
    "*   Load the Human Activity data from the datasets.\n",
    "*   Write a function that takes in a value of `n` and makes the above pipeline, then predicts the \"Activity\" column over a 5-fold StratifiedShuffleSplit, and returns the average test accuracy\n",
    "*   For various values of n, call the above function and store the average accuracies.\n",
    "*   Plot the average accuracy by number of dimensions.\n"
   ]
  },
  {
   "cell_type": "code",
   "execution_count": 39,
   "metadata": {},
   "outputs": [],
   "source": [
    "data = pd.read_csv('https://cf-courses-data.s3.us.cloud-object-storage.appdomain.cloud/IBM-ML0187EN-SkillsNetwork/Human_Activity_Recognition_Using_Smartphones_Data.csv', sep=',')"
   ]
  },
  {
   "cell_type": "code",
   "execution_count": 40,
   "metadata": {},
   "outputs": [
    {
     "data": {
      "text/plain": [
       "Index(['tBodyAcc-mean()-X', 'tBodyAcc-mean()-Y', 'tBodyAcc-mean()-Z',\n",
       "       'tBodyAcc-std()-X', 'tBodyAcc-std()-Y', 'tBodyAcc-std()-Z',\n",
       "       'tBodyAcc-mad()-X', 'tBodyAcc-mad()-Y', 'tBodyAcc-mad()-Z',\n",
       "       'tBodyAcc-max()-X',\n",
       "       ...\n",
       "       'fBodyBodyGyroJerkMag-skewness()', 'fBodyBodyGyroJerkMag-kurtosis()',\n",
       "       'angle(tBodyAccMean,gravity)', 'angle(tBodyAccJerkMean),gravityMean)',\n",
       "       'angle(tBodyGyroMean,gravityMean)',\n",
       "       'angle(tBodyGyroJerkMean,gravityMean)', 'angle(X,gravityMean)',\n",
       "       'angle(Y,gravityMean)', 'angle(Z,gravityMean)', 'Activity'],\n",
       "      dtype='object', length=562)"
      ]
     },
     "execution_count": 40,
     "metadata": {},
     "output_type": "execute_result"
    }
   ],
   "source": [
    "data.columns"
   ]
  },
  {
   "cell_type": "code",
   "execution_count": 41,
   "metadata": {
    "collapsed": false,
    "jupyter": {
     "outputs_hidden": false
    },
    "scrolled": true
   },
   "outputs": [],
   "source": [
    "from sklearn.pipeline import Pipeline\n",
    "from sklearn.preprocessing import StandardScaler\n",
    "from sklearn.model_selection import StratifiedShuffleSplit\n",
    "from sklearn.linear_model import LogisticRegression\n",
    "from sklearn.metrics import accuracy_score\n",
    "\n",
    "X = data.drop('Activity', axis=1)\n",
    "y = data.Activity\n",
    "sss = StratifiedShuffleSplit(n_splits=5, random_state=42)\n",
    "\n",
    "def get_avg_score(n):\n",
    "    pipe = [\n",
    "        ('scaler', StandardScaler()),\n",
    "        ('pca', PCA(n_components=n)),\n",
    "        ('estimator', LogisticRegression(solver='liblinear'))\n",
    "    ]\n",
    "    pipe = Pipeline(pipe)\n",
    "    scores = []\n",
    "    for train_index, test_index in sss.split(X, y):\n",
    "        X_train, X_test = X.loc[train_index], X.loc[test_index]\n",
    "        y_train, y_test = y.loc[train_index], y.loc[test_index]\n",
    "        pipe.fit(X_train, y_train)\n",
    "        scores.append(accuracy_score(y_test, pipe.predict(X_test)))\n",
    "    return np.mean(scores)\n",
    "\n",
    "\n",
    "ns = [10, 20, 50, 100, 150, 200, 300, 400]\n",
    "score_list = [get_avg_score(n) for n in ns]"
   ]
  },
  {
   "cell_type": "code",
   "execution_count": 42,
   "metadata": {
    "collapsed": false,
    "jupyter": {
     "outputs_hidden": false
    }
   },
   "outputs": [
    {
     "data": {
      "image/png": "[encoded data removed]",
      "text/plain": [
       "<Figure size 432x288 with 1 Axes>"
      ]
     },
     "metadata": {},
     "output_type": "display_data"
    }
   ],
   "source": [
    "sns.set_context('talk')\n",
    "\n",
    "ax = plt.axes()\n",
    "ax.plot(ns, score_list)\n",
    "ax.set(xlabel='Number of Dimensions',\n",
    "       ylabel='Average Accuracy',\n",
    "       title='LogisticRegression Accuracy vs Number of dimensions on the Human Activity Dataset')\n",
    "ax.grid(True)"
   ]
  },
  {
   "cell_type": "markdown",
   "metadata": {},
   "source": [
    "***\n"
   ]
  },
  {
   "cell_type": "markdown",
   "metadata": {},
   "source": [
    "### Non Negative Matrix Factorization"
   ]
  },
  {
   "cell_type": "markdown",
   "metadata": {},
   "source": [
    "<img src = \"Non Negative Matrix Factorization.jpg\">\n",
    "<img src = \"Non Negative Matrix Factorization1.jpg\">\n",
    "<img src = \"Non Negative Matrix Factorization2.jpg\">\n",
    "<img src = \"Non Negative Matrix Factorization3.jpg\">\n",
    "<img src = \"Non Negative Matrix Factorization4.jpg\">"
   ]
  },
  {
   "cell_type": "markdown",
   "metadata": {
    "run_control": {
     "marked": true
    }
   },
   "source": [
    "# Machine Learning Foundation\n",
    "\n",
    "## Course 4, Part e: Non-Negative Matrix Factorization DEMO"
   ]
  },
  {
   "cell_type": "markdown",
   "metadata": {},
   "source": [
    "This exercise illustrates usage of Non-negative Matrix factorization and covers techniques related to sparse matrices and some basic work with Natural Langauge Processing.  We will use NMF to look at the top words for given topics."
   ]
  },
  {
   "cell_type": "markdown",
   "metadata": {},
   "source": [
    "## Data"
   ]
  },
  {
   "cell_type": "markdown",
   "metadata": {},
   "source": [
    "We'll be using the BBC dataset. These are articles collected from 5 different topics, with the data pre-processed. \n",
    "\n",
    "These data are available in the data folder (or online [here](http://mlg.ucd.ie/files/datasets/bbc.zip)). The data consists of a few files. The steps we'll be following are:\n",
    "\n",
    "* *bbc.terms* is just a list of words \n",
    "* *bbc.docs* is a list of artcles listed by topic.\n",
    "\n",
    "At a high level, we're going to \n",
    "\n",
    "1. Turn the `bbc.mtx` file into a sparse matrix (a [sparse matrix](https://docs.scipy.org/doc/scipy/reference/sparse.html) format can be useful for matrices with many values that are 0, and save space by storing the position and values of non-zero elements).\n",
    "1. Decompose that sparse matrix using NMF.\n",
    "1. Use the resulting components of NMF to analyze the topics that result."
   ]
  },
  {
   "cell_type": "markdown",
   "metadata": {},
   "source": [
    "## Data Setup"
   ]
  },
  {
   "cell_type": "code",
   "execution_count": 50,
   "metadata": {},
   "outputs": [],
   "source": [
    "with open('bbc.mtx') as f:\n",
    "    content = f.readlines()"
   ]
  },
  {
   "cell_type": "code",
   "execution_count": 51,
   "metadata": {},
   "outputs": [
    {
     "data": {
      "text/plain": [
       "['%%MatrixMarket matrix coordinate real general\\n',\n",
       " '9635 2225 286774\\n',\n",
       " '1 1 1.0\\n',\n",
       " '1 7 2.0\\n',\n",
       " '1 11 1.0\\n',\n",
       " '1 14 1.0\\n',\n",
       " '1 15 2.0\\n',\n",
       " '1 19 2.0\\n',\n",
       " '1 21 1.0\\n',\n",
       " '1 29 1.0\\n',\n",
       " '1 30 1.0\\n',\n",
       " '1 33 1.0\\n',\n",
       " '1 35 1.0\\n',\n",
       " '1 41 1.0\\n',\n",
       " '1 45 1.0\\n',\n",
       " '1 47 2.0\\n',\n",
       " '1 50 1.0\\n',\n",
       " '1 52 1.0\\n',\n",
       " '1 53 3.0\\n',\n",
       " '1 55 1.0\\n',\n",
       " '1 61 1.0\\n',\n",
       " '1 62 1.0\\n',\n",
       " '1 63 1.0\\n',\n",
       " '1 65 1.0\\n',\n",
       " '1 69 1.0\\n',\n",
       " '1 80 1.0\\n',\n",
       " '1 81 1.0\\n',\n",
       " '1 86 1.0\\n',\n",
       " '1 93 1.0\\n',\n",
       " '1 99 1.0\\n',\n",
       " '1 100 1.0\\n',\n",
       " '1 104 1.0\\n',\n",
       " '1 105 1.0\\n',\n",
       " '1 106 1.0\\n',\n",
       " '1 112 1.0\\n',\n",
       " '1 116 3.0\\n',\n",
       " '1 117 1.0\\n',\n",
       " '1 118 2.0\\n',\n",
       " '1 120 1.0\\n',\n",
       " '1 121 1.0\\n',\n",
       " '1 126 1.0\\n',\n",
       " '1 131 4.0\\n',\n",
       " '1 133 1.0\\n',\n",
       " '1 134 3.0\\n',\n",
       " '1 138 2.0\\n',\n",
       " '1 140 2.0\\n',\n",
       " '1 143 1.0\\n',\n",
       " '1 151 2.0\\n',\n",
       " '1 152 2.0\\n',\n",
       " '1 175 1.0\\n',\n",
       " '1 176 1.0\\n',\n",
       " '1 177 1.0\\n',\n",
       " '1 180 1.0\\n',\n",
       " '1 184 1.0\\n',\n",
       " '1 189 1.0\\n',\n",
       " '1 194 1.0\\n',\n",
       " '1 195 1.0\\n',\n",
       " '1 198 1.0\\n',\n",
       " '1 201 1.0\\n',\n",
       " '1 206 1.0\\n',\n",
       " '1 207 3.0\\n',\n",
       " '1 208 1.0\\n',\n",
       " '1 217 1.0\\n',\n",
       " '1 219 1.0\\n',\n",
       " '1 221 1.0\\n',\n",
       " '1 231 1.0\\n',\n",
       " '1 241 2.0\\n',\n",
       " '1 252 1.0\\n',\n",
       " '1 253 2.0\\n',\n",
       " '1 255 2.0\\n',\n",
       " '1 263 1.0\\n',\n",
       " '1 273 1.0\\n',\n",
       " '1 275 1.0\\n',\n",
       " '1 279 2.0\\n',\n",
       " '1 281 1.0\\n',\n",
       " '1 286 1.0\\n',\n",
       " '1 290 1.0\\n',\n",
       " '1 292 1.0\\n',\n",
       " '1 296 4.0\\n',\n",
       " '1 299 2.0\\n',\n",
       " '1 301 1.0\\n',\n",
       " '1 303 1.0\\n',\n",
       " '1 307 2.0\\n',\n",
       " '1 310 1.0\\n',\n",
       " '1 317 1.0\\n',\n",
       " '1 323 1.0\\n',\n",
       " '1 324 1.0\\n',\n",
       " '1 328 1.0\\n',\n",
       " '1 329 2.0\\n',\n",
       " '1 334 1.0\\n',\n",
       " '1 348 1.0\\n',\n",
       " '1 357 1.0\\n',\n",
       " '1 359 1.0\\n',\n",
       " '1 360 1.0\\n',\n",
       " '1 362 1.0\\n',\n",
       " '1 363 1.0\\n',\n",
       " '1 366 1.0\\n',\n",
       " '1 367 1.0\\n',\n",
       " '1 373 1.0\\n',\n",
       " '1 374 1.0\\n',\n",
       " '1 376 1.0\\n',\n",
       " '1 377 1.0\\n',\n",
       " '1 379 1.0\\n',\n",
       " '1 380 2.0\\n',\n",
       " '1 386 3.0\\n',\n",
       " '1 387 2.0\\n',\n",
       " '1 392 1.0\\n',\n",
       " '1 400 1.0\\n',\n",
       " '1 401 4.0\\n',\n",
       " '1 402 1.0\\n',\n",
       " '1 403 1.0\\n',\n",
       " '1 406 1.0\\n',\n",
       " '1 414 2.0\\n',\n",
       " '1 416 1.0\\n',\n",
       " '1 421 1.0\\n',\n",
       " '1 425 1.0\\n',\n",
       " '1 433 1.0\\n',\n",
       " '1 434 1.0\\n',\n",
       " '1 438 1.0\\n',\n",
       " '1 443 1.0\\n',\n",
       " '1 446 1.0\\n',\n",
       " '1 448 1.0\\n',\n",
       " '1 449 1.0\\n',\n",
       " '1 450 1.0\\n',\n",
       " '1 453 2.0\\n',\n",
       " '1 456 1.0\\n',\n",
       " '1 462 1.0\\n',\n",
       " '1 463 1.0\\n',\n",
       " '1 466 1.0\\n',\n",
       " '1 469 1.0\\n',\n",
       " '1 471 2.0\\n',\n",
       " '1 479 1.0\\n',\n",
       " '1 493 1.0\\n',\n",
       " '1 501 3.0\\n',\n",
       " '1 505 1.0\\n',\n",
       " '1 525 1.0\\n',\n",
       " '1 535 1.0\\n',\n",
       " '1 536 2.0\\n',\n",
       " '1 537 1.0\\n',\n",
       " '1 540 2.0\\n',\n",
       " '1 546 1.0\\n',\n",
       " '1 549 1.0\\n',\n",
       " '1 550 1.0\\n',\n",
       " '1 551 1.0\\n',\n",
       " '1 553 1.0\\n',\n",
       " '1 566 1.0\\n',\n",
       " '1 574 2.0\\n',\n",
       " '1 575 1.0\\n',\n",
       " '1 576 1.0\\n',\n",
       " '1 582 1.0\\n',\n",
       " '1 585 1.0\\n',\n",
       " '1 590 1.0\\n',\n",
       " '1 591 1.0\\n',\n",
       " '1 592 1.0\\n',\n",
       " '1 597 1.0\\n',\n",
       " '1 600 1.0\\n',\n",
       " '1 603 3.0\\n',\n",
       " '1 604 1.0\\n',\n",
       " '1 627 1.0\\n',\n",
       " '1 628 2.0\\n',\n",
       " '1 631 1.0\\n',\n",
       " '1 632 1.0\\n',\n",
       " '1 638 1.0\\n',\n",
       " '1 640 1.0\\n',\n",
       " '1 641 1.0\\n',\n",
       " '1 644 2.0\\n',\n",
       " '1 647 1.0\\n',\n",
       " '1 651 1.0\\n',\n",
       " '1 671 1.0\\n',\n",
       " '1 683 1.0\\n',\n",
       " '1 684 1.0\\n',\n",
       " '1 688 1.0\\n',\n",
       " '1 691 2.0\\n',\n",
       " '1 692 2.0\\n',\n",
       " '1 693 1.0\\n',\n",
       " '1 694 1.0\\n',\n",
       " '1 695 1.0\\n',\n",
       " '1 696 1.0\\n',\n",
       " '1 703 2.0\\n',\n",
       " '1 713 2.0\\n',\n",
       " '1 721 1.0\\n',\n",
       " '1 731 3.0\\n',\n",
       " '1 733 2.0\\n',\n",
       " '1 741 1.0\\n',\n",
       " '1 742 1.0\\n',\n",
       " '1 755 2.0\\n',\n",
       " '1 762 1.0\\n',\n",
       " '1 763 2.0\\n',\n",
       " '1 765 2.0\\n',\n",
       " '1 772 1.0\\n',\n",
       " '1 776 1.0\\n',\n",
       " '1 779 2.0\\n',\n",
       " '1 781 2.0\\n',\n",
       " '1 785 1.0\\n',\n",
       " '1 792 1.0\\n',\n",
       " '1 794 1.0\\n',\n",
       " '1 799 3.0\\n',\n",
       " '1 801 1.0\\n',\n",
       " '1 802 1.0\\n',\n",
       " '1 803 2.0\\n',\n",
       " '1 804 1.0\\n',\n",
       " '1 806 1.0\\n',\n",
       " '1 809 1.0\\n',\n",
       " '1 813 1.0\\n',\n",
       " '1 816 1.0\\n',\n",
       " '1 820 1.0\\n',\n",
       " '1 821 1.0\\n',\n",
       " '1 831 1.0\\n',\n",
       " '1 839 1.0\\n',\n",
       " '1 840 1.0\\n',\n",
       " '1 847 1.0\\n',\n",
       " '1 855 1.0\\n',\n",
       " '1 862 3.0\\n',\n",
       " '1 866 1.0\\n',\n",
       " '1 868 2.0\\n',\n",
       " '1 875 1.0\\n',\n",
       " '1 877 2.0\\n',\n",
       " '1 881 1.0\\n',\n",
       " '1 883 1.0\\n',\n",
       " '1 891 1.0\\n',\n",
       " '1 899 1.0\\n',\n",
       " '1 901 1.0\\n',\n",
       " '1 902 1.0\\n',\n",
       " '1 904 1.0\\n',\n",
       " '1 907 1.0\\n',\n",
       " '1 908 1.0\\n',\n",
       " '1 910 1.0\\n',\n",
       " '1 912 2.0\\n',\n",
       " '1 915 3.0\\n',\n",
       " '1 918 2.0\\n',\n",
       " '1 919 1.0\\n',\n",
       " '1 923 1.0\\n',\n",
       " '1 929 1.0\\n',\n",
       " '1 930 1.0\\n',\n",
       " '1 935 1.0\\n',\n",
       " '1 937 1.0\\n',\n",
       " '1 944 2.0\\n',\n",
       " '1 946 2.0\\n',\n",
       " '1 952 2.0\\n',\n",
       " '1 956 1.0\\n',\n",
       " '1 957 1.0\\n',\n",
       " '1 958 1.0\\n',\n",
       " '1 959 1.0\\n',\n",
       " '1 961 1.0\\n',\n",
       " '1 963 1.0\\n',\n",
       " '1 965 1.0\\n',\n",
       " '1 967 1.0\\n',\n",
       " '1 969 2.0\\n',\n",
       " '1 972 1.0\\n',\n",
       " '1 976 2.0\\n',\n",
       " '1 978 1.0\\n',\n",
       " '1 979 1.0\\n',\n",
       " '1 982 1.0\\n',\n",
       " '1 984 1.0\\n',\n",
       " '1 985 2.0\\n',\n",
       " '1 990 1.0\\n',\n",
       " '1 993 1.0\\n',\n",
       " '1 996 1.0\\n',\n",
       " '1 997 1.0\\n',\n",
       " '1 1000 2.0\\n',\n",
       " '1 1001 3.0\\n',\n",
       " '1 1005 1.0\\n',\n",
       " '1 1006 1.0\\n',\n",
       " '1 1014 1.0\\n',\n",
       " '1 1016 2.0\\n',\n",
       " '1 1017 1.0\\n',\n",
       " '1 1020 1.0\\n',\n",
       " '1 1021 1.0\\n',\n",
       " '1 1023 2.0\\n',\n",
       " '1 1025 1.0\\n',\n",
       " '1 1026 1.0\\n',\n",
       " '1 1031 1.0\\n',\n",
       " '1 1034 1.0\\n',\n",
       " '1 1037 1.0\\n',\n",
       " '1 1038 3.0\\n',\n",
       " '1 1039 2.0\\n',\n",
       " '1 1041 1.0\\n',\n",
       " '1 1043 1.0\\n',\n",
       " '1 1045 1.0\\n',\n",
       " '1 1048 1.0\\n',\n",
       " '1 1050 1.0\\n',\n",
       " '1 1051 1.0\\n',\n",
       " '1 1054 1.0\\n',\n",
       " '1 1056 1.0\\n',\n",
       " '1 1057 2.0\\n',\n",
       " '1 1058 1.0\\n',\n",
       " '1 1059 2.0\\n',\n",
       " '1 1061 1.0\\n',\n",
       " '1 1070 1.0\\n',\n",
       " '1 1077 1.0\\n',\n",
       " '1 1080 1.0\\n',\n",
       " '1 1083 1.0\\n',\n",
       " '1 1085 4.0\\n',\n",
       " '1 1087 1.0\\n',\n",
       " '1 1088 2.0\\n',\n",
       " '1 1091 2.0\\n',\n",
       " '1 1096 1.0\\n',\n",
       " '1 1097 1.0\\n',\n",
       " '1 1098 1.0\\n',\n",
       " '1 1101 1.0\\n',\n",
       " '1 1105 3.0\\n',\n",
       " '1 1108 2.0\\n',\n",
       " '1 1111 1.0\\n',\n",
       " '1 1113 1.0\\n',\n",
       " '1 1119 1.0\\n',\n",
       " '1 1124 1.0\\n',\n",
       " '1 1126 1.0\\n',\n",
       " '1 1134 2.0\\n',\n",
       " '1 1140 1.0\\n',\n",
       " '1 1142 2.0\\n',\n",
       " '1 1147 2.0\\n',\n",
       " '1 1148 2.0\\n',\n",
       " '1 1151 1.0\\n',\n",
       " '1 1153 1.0\\n',\n",
       " '1 1162 1.0\\n',\n",
       " '1 1164 1.0\\n',\n",
       " '1 1166 1.0\\n',\n",
       " '1 1167 2.0\\n',\n",
       " '1 1171 1.0\\n',\n",
       " '1 1172 1.0\\n',\n",
       " '1 1177 1.0\\n',\n",
       " '1 1178 1.0\\n',\n",
       " '1 1181 1.0\\n',\n",
       " '1 1182 1.0\\n',\n",
       " '1 1190 2.0\\n',\n",
       " '1 1192 1.0\\n',\n",
       " '1 1196 1.0\\n',\n",
       " '1 1198 1.0\\n',\n",
       " '1 1199 1.0\\n',\n",
       " '1 1200 1.0\\n',\n",
       " '1 1202 1.0\\n',\n",
       " '1 1203 2.0\\n',\n",
       " '1 1207 1.0\\n',\n",
       " '1 1208 1.0\\n',\n",
       " '1 1210 1.0\\n',\n",
       " '1 1211 4.0\\n',\n",
       " '1 1212 1.0\\n',\n",
       " '1 1215 1.0\\n',\n",
       " '1 1217 1.0\\n',\n",
       " '1 1221 1.0\\n',\n",
       " '1 1223 2.0\\n',\n",
       " '1 1224 1.0\\n',\n",
       " '1 1225 2.0\\n',\n",
       " '1 1228 2.0\\n',\n",
       " '1 1232 2.0\\n',\n",
       " '1 1234 1.0\\n',\n",
       " '1 1235 1.0\\n',\n",
       " '1 1237 1.0\\n',\n",
       " '1 1242 2.0\\n',\n",
       " '1 1249 1.0\\n',\n",
       " '1 1253 1.0\\n',\n",
       " '1 1254 2.0\\n',\n",
       " '1 1255 1.0\\n',\n",
       " '1 1257 1.0\\n',\n",
       " '1 1259 3.0\\n',\n",
       " '1 1260 1.0\\n',\n",
       " '1 1262 2.0\\n',\n",
       " '1 1263 1.0\\n',\n",
       " '1 1271 2.0\\n',\n",
       " '1 1279 1.0\\n',\n",
       " '1 1286 1.0\\n',\n",
       " '1 1288 1.0\\n',\n",
       " '1 1291 1.0\\n',\n",
       " '1 1298 1.0\\n',\n",
       " '1 1299 1.0\\n',\n",
       " '1 1307 1.0\\n',\n",
       " '1 1309 1.0\\n',\n",
       " '1 1310 2.0\\n',\n",
       " '1 1311 1.0\\n',\n",
       " '1 1312 1.0\\n',\n",
       " '1 1321 1.0\\n',\n",
       " '1 1326 1.0\\n',\n",
       " '1 1328 1.0\\n',\n",
       " '1 1330 1.0\\n',\n",
       " '1 1346 1.0\\n',\n",
       " '1 1347 1.0\\n',\n",
       " '1 1357 1.0\\n',\n",
       " '1 1359 1.0\\n',\n",
       " '1 1361 1.0\\n',\n",
       " '1 1362 2.0\\n',\n",
       " '1 1365 1.0\\n',\n",
       " '1 1376 1.0\\n',\n",
       " '1 1379 1.0\\n',\n",
       " '1 1380 1.0\\n',\n",
       " '1 1381 2.0\\n',\n",
       " '1 1392 1.0\\n',\n",
       " '1 1393 2.0\\n',\n",
       " '1 1397 1.0\\n',\n",
       " '1 1398 1.0\\n',\n",
       " '1 1401 2.0\\n',\n",
       " '1 1403 1.0\\n',\n",
       " '1 1405 1.0\\n',\n",
       " '1 1410 1.0\\n',\n",
       " '1 1411 1.0\\n',\n",
       " '1 1412 1.0\\n',\n",
       " '1 1413 1.0\\n',\n",
       " '1 1415 1.0\\n',\n",
       " '1 1425 1.0\\n',\n",
       " '1 1426 1.0\\n',\n",
       " '1 1427 1.0\\n',\n",
       " '1 1434 1.0\\n',\n",
       " '1 1437 1.0\\n',\n",
       " '1 1439 2.0\\n',\n",
       " '1 1450 1.0\\n',\n",
       " '1 1452 1.0\\n',\n",
       " '1 1453 2.0\\n',\n",
       " '1 1454 1.0\\n',\n",
       " '1 1455 1.0\\n',\n",
       " '1 1456 1.0\\n',\n",
       " '1 1457 1.0\\n',\n",
       " '1 1458 2.0\\n',\n",
       " '1 1463 1.0\\n',\n",
       " '1 1464 1.0\\n',\n",
       " '1 1466 1.0\\n',\n",
       " '1 1467 2.0\\n',\n",
       " '1 1468 1.0\\n',\n",
       " '1 1470 1.0\\n',\n",
       " '1 1473 1.0\\n',\n",
       " '1 1479 1.0\\n',\n",
       " '1 1480 1.0\\n',\n",
       " '1 1485 2.0\\n',\n",
       " '1 1488 1.0\\n',\n",
       " '1 1489 1.0\\n',\n",
       " '1 1490 1.0\\n',\n",
       " '1 1491 2.0\\n',\n",
       " '1 1496 1.0\\n',\n",
       " '1 1499 2.0\\n',\n",
       " '1 1501 1.0\\n',\n",
       " '1 1502 1.0\\n',\n",
       " '1 1506 1.0\\n',\n",
       " '1 1507 1.0\\n',\n",
       " '1 1511 1.0\\n',\n",
       " '1 1512 1.0\\n',\n",
       " '1 1514 1.0\\n',\n",
       " '1 1515 1.0\\n',\n",
       " '1 1516 1.0\\n',\n",
       " '1 1519 1.0\\n',\n",
       " '1 1520 1.0\\n',\n",
       " '1 1521 1.0\\n',\n",
       " '1 1522 1.0\\n',\n",
       " '1 1524 2.0\\n',\n",
       " '1 1526 1.0\\n',\n",
       " '1 1529 2.0\\n',\n",
       " '1 1535 1.0\\n',\n",
       " '1 1536 2.0\\n',\n",
       " '1 1542 1.0\\n',\n",
       " '1 1544 1.0\\n',\n",
       " '1 1548 3.0\\n',\n",
       " '1 1549 1.0\\n',\n",
       " '1 1551 1.0\\n',\n",
       " '1 1555 1.0\\n',\n",
       " '1 1556 1.0\\n',\n",
       " '1 1557 1.0\\n',\n",
       " '1 1560 2.0\\n',\n",
       " '1 1561 2.0\\n',\n",
       " '1 1563 2.0\\n',\n",
       " '1 1564 1.0\\n',\n",
       " '1 1566 1.0\\n',\n",
       " '1 1567 2.0\\n',\n",
       " '1 1576 1.0\\n',\n",
       " '1 1578 1.0\\n',\n",
       " '1 1579 1.0\\n',\n",
       " '1 1580 2.0\\n',\n",
       " '1 1582 1.0\\n',\n",
       " '1 1583 1.0\\n',\n",
       " '1 1586 1.0\\n',\n",
       " '1 1587 1.0\\n',\n",
       " '1 1590 1.0\\n',\n",
       " '1 1591 1.0\\n',\n",
       " '1 1593 1.0\\n',\n",
       " '1 1594 1.0\\n',\n",
       " '1 1596 1.0\\n',\n",
       " '1 1597 2.0\\n',\n",
       " '1 1601 1.0\\n',\n",
       " '1 1604 1.0\\n',\n",
       " '1 1607 4.0\\n',\n",
       " '1 1609 1.0\\n',\n",
       " '1 1613 1.0\\n',\n",
       " '1 1616 1.0\\n',\n",
       " '1 1624 2.0\\n',\n",
       " '1 1625 2.0\\n',\n",
       " '1 1626 2.0\\n',\n",
       " '1 1628 1.0\\n',\n",
       " '1 1635 1.0\\n',\n",
       " '1 1640 2.0\\n',\n",
       " '1 1641 1.0\\n',\n",
       " '1 1642 1.0\\n',\n",
       " '1 1643 3.0\\n',\n",
       " '1 1644 2.0\\n',\n",
       " '1 1646 1.0\\n',\n",
       " '1 1647 1.0\\n',\n",
       " '1 1649 1.0\\n',\n",
       " '1 1651 2.0\\n',\n",
       " '1 1653 1.0\\n',\n",
       " '1 1654 1.0\\n',\n",
       " '1 1660 2.0\\n',\n",
       " '1 1665 2.0\\n',\n",
       " '1 1666 1.0\\n',\n",
       " '1 1671 2.0\\n',\n",
       " '1 1677 1.0\\n',\n",
       " '1 1679 1.0\\n',\n",
       " '1 1685 2.0\\n',\n",
       " '1 1686 1.0\\n',\n",
       " '1 1687 1.0\\n',\n",
       " '1 1695 2.0\\n',\n",
       " '1 1697 1.0\\n',\n",
       " '1 1698 1.0\\n',\n",
       " '1 1700 1.0\\n',\n",
       " '1 1704 1.0\\n',\n",
       " '1 1706 1.0\\n',\n",
       " '1 1722 1.0\\n',\n",
       " '1 1724 1.0\\n',\n",
       " '1 1725 1.0\\n',\n",
       " '1 1726 1.0\\n',\n",
       " '1 1727 1.0\\n',\n",
       " '1 1728 2.0\\n',\n",
       " '1 1729 2.0\\n',\n",
       " '1 1733 1.0\\n',\n",
       " '1 1738 1.0\\n',\n",
       " '1 1740 1.0\\n',\n",
       " '1 1745 2.0\\n',\n",
       " '1 1746 1.0\\n',\n",
       " '1 1751 2.0\\n',\n",
       " '1 1758 1.0\\n',\n",
       " '1 1765 1.0\\n',\n",
       " '1 1767 1.0\\n',\n",
       " '1 1775 1.0\\n',\n",
       " '1 1777 1.0\\n',\n",
       " '1 1785 1.0\\n',\n",
       " '1 1787 1.0\\n',\n",
       " '1 1788 1.0\\n',\n",
       " '1 1793 1.0\\n',\n",
       " '1 1795 1.0\\n',\n",
       " '1 1799 1.0\\n',\n",
       " '1 1813 2.0\\n',\n",
       " '1 1814 1.0\\n',\n",
       " '1 1816 1.0\\n',\n",
       " '1 1822 1.0\\n',\n",
       " '1 1829 1.0\\n',\n",
       " '1 1833 1.0\\n',\n",
       " '1 1839 1.0\\n',\n",
       " '1 1840 2.0\\n',\n",
       " '1 1841 1.0\\n',\n",
       " '1 1842 1.0\\n',\n",
       " '1 1848 1.0\\n',\n",
       " '1 1850 1.0\\n',\n",
       " '1 1853 1.0\\n',\n",
       " '1 1855 1.0\\n',\n",
       " '1 1856 1.0\\n',\n",
       " '1 1862 1.0\\n',\n",
       " '1 1864 2.0\\n',\n",
       " '1 1865 3.0\\n',\n",
       " '1 1870 1.0\\n',\n",
       " '1 1871 1.0\\n',\n",
       " '1 1873 1.0\\n',\n",
       " '1 1876 1.0\\n',\n",
       " '1 1882 1.0\\n',\n",
       " '1 1886 1.0\\n',\n",
       " '1 1888 1.0\\n',\n",
       " '1 1891 1.0\\n',\n",
       " '1 1897 1.0\\n',\n",
       " '1 1900 1.0\\n',\n",
       " '1 1903 1.0\\n',\n",
       " '1 1904 1.0\\n',\n",
       " '1 1905 1.0\\n',\n",
       " '1 1906 1.0\\n',\n",
       " '1 1908 1.0\\n',\n",
       " '1 1912 3.0\\n',\n",
       " '1 1913 1.0\\n',\n",
       " '1 1915 1.0\\n',\n",
       " '1 1916 1.0\\n',\n",
       " '1 1918 1.0\\n',\n",
       " '1 1920 1.0\\n',\n",
       " '1 1926 2.0\\n',\n",
       " '1 1937 2.0\\n',\n",
       " '1 1945 1.0\\n',\n",
       " '1 1946 1.0\\n',\n",
       " '1 1948 2.0\\n',\n",
       " '1 1954 1.0\\n',\n",
       " '1 1957 1.0\\n',\n",
       " '1 1960 1.0\\n',\n",
       " '1 1962 1.0\\n',\n",
       " '1 1963 1.0\\n',\n",
       " '1 1966 1.0\\n',\n",
       " '1 1973 1.0\\n',\n",
       " '1 1975 1.0\\n',\n",
       " '1 1979 4.0\\n',\n",
       " '1 1980 1.0\\n',\n",
       " '1 1981 1.0\\n',\n",
       " '1 1986 1.0\\n',\n",
       " '1 1992 2.0\\n',\n",
       " '1 2002 1.0\\n',\n",
       " '1 2004 1.0\\n',\n",
       " '1 2012 2.0\\n',\n",
       " '1 2015 1.0\\n',\n",
       " '1 2018 1.0\\n',\n",
       " '1 2019 1.0\\n',\n",
       " '1 2024 1.0\\n',\n",
       " '1 2030 5.0\\n',\n",
       " '1 2033 2.0\\n',\n",
       " '1 2037 2.0\\n',\n",
       " '1 2038 1.0\\n',\n",
       " '1 2040 1.0\\n',\n",
       " '1 2044 1.0\\n',\n",
       " '1 2045 1.0\\n',\n",
       " '1 2046 1.0\\n',\n",
       " '1 2052 1.0\\n',\n",
       " '1 2059 1.0\\n',\n",
       " '1 2065 1.0\\n',\n",
       " '1 2066 1.0\\n',\n",
       " '1 2067 1.0\\n',\n",
       " '1 2078 1.0\\n',\n",
       " '1 2082 1.0\\n',\n",
       " '1 2083 1.0\\n',\n",
       " '1 2084 1.0\\n',\n",
       " '1 2085 4.0\\n',\n",
       " '1 2091 1.0\\n',\n",
       " '1 2092 1.0\\n',\n",
       " '1 2094 1.0\\n',\n",
       " '1 2102 2.0\\n',\n",
       " '1 2103 1.0\\n',\n",
       " '1 2104 2.0\\n',\n",
       " '1 2112 1.0\\n',\n",
       " '1 2117 1.0\\n',\n",
       " '1 2118 4.0\\n',\n",
       " '1 2119 1.0\\n',\n",
       " '1 2121 1.0\\n',\n",
       " '1 2123 1.0\\n',\n",
       " '1 2124 1.0\\n',\n",
       " '1 2125 4.0\\n',\n",
       " '1 2126 1.0\\n',\n",
       " '1 2129 1.0\\n',\n",
       " '1 2134 1.0\\n',\n",
       " '1 2137 1.0\\n',\n",
       " '1 2140 1.0\\n',\n",
       " '1 2142 1.0\\n',\n",
       " '1 2151 1.0\\n',\n",
       " '1 2156 2.0\\n',\n",
       " '1 2159 1.0\\n',\n",
       " '1 2160 1.0\\n',\n",
       " '1 2161 1.0\\n',\n",
       " '1 2162 1.0\\n',\n",
       " '1 2164 1.0\\n',\n",
       " '1 2178 2.0\\n',\n",
       " '1 2184 1.0\\n',\n",
       " '1 2185 1.0\\n',\n",
       " '1 2188 1.0\\n',\n",
       " '1 2195 2.0\\n',\n",
       " '1 2197 1.0\\n',\n",
       " '1 2200 3.0\\n',\n",
       " '1 2201 1.0\\n',\n",
       " '1 2203 1.0\\n',\n",
       " '1 2206 1.0\\n',\n",
       " '1 2208 1.0\\n',\n",
       " '1 2217 1.0\\n',\n",
       " '1 2218 2.0\\n',\n",
       " '2 1 5.0\\n',\n",
       " '2 3 4.0\\n',\n",
       " '2 4 1.0\\n',\n",
       " '2 11 1.0\\n',\n",
       " '2 13 5.0\\n',\n",
       " '2 14 1.0\\n',\n",
       " '2 16 1.0\\n',\n",
       " '2 25 1.0\\n',\n",
       " '2 26 1.0\\n',\n",
       " '2 27 1.0\\n',\n",
       " '2 38 3.0\\n',\n",
       " '2 39 2.0\\n',\n",
       " '2 40 5.0\\n',\n",
       " '2 49 1.0\\n',\n",
       " '2 50 6.0\\n',\n",
       " '2 51 2.0\\n',\n",
       " '2 53 1.0\\n',\n",
       " '2 54 2.0\\n',\n",
       " '2 56 9.0\\n',\n",
       " '2 63 15.0\\n',\n",
       " '2 67 1.0\\n',\n",
       " '2 72 1.0\\n',\n",
       " '2 77 1.0\\n',\n",
       " '2 83 1.0\\n',\n",
       " '2 88 2.0\\n',\n",
       " '2 90 2.0\\n',\n",
       " '2 91 2.0\\n',\n",
       " '2 95 6.0\\n',\n",
       " '2 99 19.0\\n',\n",
       " '2 107 1.0\\n',\n",
       " '2 111 5.0\\n',\n",
       " '2 112 2.0\\n',\n",
       " '2 115 3.0\\n',\n",
       " '2 117 3.0\\n',\n",
       " '2 118 4.0\\n',\n",
       " '2 122 1.0\\n',\n",
       " '2 127 1.0\\n',\n",
       " '2 128 1.0\\n',\n",
       " '2 130 1.0\\n',\n",
       " '2 132 6.0\\n',\n",
       " '2 136 1.0\\n',\n",
       " '2 140 2.0\\n',\n",
       " '2 143 6.0\\n',\n",
       " '2 150 1.0\\n',\n",
       " '2 155 3.0\\n',\n",
       " '2 156 2.0\\n',\n",
       " '2 157 1.0\\n',\n",
       " '2 164 1.0\\n',\n",
       " '2 170 2.0\\n',\n",
       " '2 171 1.0\\n',\n",
       " '2 173 7.0\\n',\n",
       " '2 174 1.0\\n',\n",
       " '2 175 3.0\\n',\n",
       " '2 177 1.0\\n',\n",
       " '2 181 1.0\\n',\n",
       " '2 189 2.0\\n',\n",
       " '2 190 1.0\\n',\n",
       " '2 191 2.0\\n',\n",
       " '2 192 3.0\\n',\n",
       " '2 193 1.0\\n',\n",
       " '2 197 4.0\\n',\n",
       " '2 201 2.0\\n',\n",
       " '2 207 6.0\\n',\n",
       " '2 210 1.0\\n',\n",
       " '2 212 1.0\\n',\n",
       " '2 216 3.0\\n',\n",
       " '2 217 2.0\\n',\n",
       " '2 218 1.0\\n',\n",
       " '2 223 4.0\\n',\n",
       " '2 225 6.0\\n',\n",
       " '2 226 1.0\\n',\n",
       " '2 230 5.0\\n',\n",
       " '2 233 1.0\\n',\n",
       " '2 239 1.0\\n',\n",
       " '2 247 6.0\\n',\n",
       " '2 248 3.0\\n',\n",
       " '2 250 2.0\\n',\n",
       " '2 262 1.0\\n',\n",
       " '2 263 1.0\\n',\n",
       " '2 267 3.0\\n',\n",
       " '2 269 1.0\\n',\n",
       " '2 271 1.0\\n',\n",
       " '2 274 1.0\\n',\n",
       " '2 276 2.0\\n',\n",
       " '2 278 1.0\\n',\n",
       " '2 286 1.0\\n',\n",
       " '2 287 1.0\\n',\n",
       " '2 288 2.0\\n',\n",
       " '2 289 1.0\\n',\n",
       " '2 290 2.0\\n',\n",
       " '2 293 1.0\\n',\n",
       " '2 295 1.0\\n',\n",
       " '2 299 2.0\\n',\n",
       " '2 302 2.0\\n',\n",
       " '2 306 8.0\\n',\n",
       " '2 312 1.0\\n',\n",
       " '2 314 4.0\\n',\n",
       " '2 317 7.0\\n',\n",
       " '2 318 2.0\\n',\n",
       " '2 323 1.0\\n',\n",
       " '2 324 5.0\\n',\n",
       " '2 325 1.0\\n',\n",
       " '2 329 5.0\\n',\n",
       " '2 332 1.0\\n',\n",
       " '2 340 1.0\\n',\n",
       " '2 341 2.0\\n',\n",
       " '2 344 1.0\\n',\n",
       " '2 358 2.0\\n',\n",
       " '2 359 2.0\\n',\n",
       " '2 361 5.0\\n',\n",
       " '2 365 3.0\\n',\n",
       " '2 373 1.0\\n',\n",
       " '2 384 11.0\\n',\n",
       " '2 385 1.0\\n',\n",
       " '2 386 1.0\\n',\n",
       " '2 389 1.0\\n',\n",
       " '2 390 9.0\\n',\n",
       " '2 391 1.0\\n',\n",
       " '2 393 3.0\\n',\n",
       " '2 406 15.0\\n',\n",
       " '2 408 4.0\\n',\n",
       " '2 409 1.0\\n',\n",
       " '2 410 7.0\\n',\n",
       " '2 426 3.0\\n',\n",
       " '2 430 2.0\\n',\n",
       " '2 431 2.0\\n',\n",
       " '2 436 1.0\\n',\n",
       " '2 438 2.0\\n',\n",
       " '2 439 1.0\\n',\n",
       " '2 440 1.0\\n',\n",
       " '2 441 1.0\\n',\n",
       " '2 444 2.0\\n',\n",
       " '2 450 15.0\\n',\n",
       " '2 451 1.0\\n',\n",
       " '2 452 1.0\\n',\n",
       " '2 453 1.0\\n',\n",
       " '2 456 1.0\\n',\n",
       " '2 462 1.0\\n',\n",
       " '2 463 1.0\\n',\n",
       " '2 464 1.0\\n',\n",
       " '2 475 2.0\\n',\n",
       " '2 476 1.0\\n',\n",
       " '2 479 3.0\\n',\n",
       " '2 480 1.0\\n',\n",
       " '2 481 6.0\\n',\n",
       " '2 483 2.0\\n',\n",
       " '2 489 2.0\\n',\n",
       " '2 493 1.0\\n',\n",
       " '2 500 2.0\\n',\n",
       " '2 503 3.0\\n',\n",
       " '2 504 1.0\\n',\n",
       " '2 507 1.0\\n',\n",
       " '2 510 1.0\\n',\n",
       " '2 514 2.0\\n',\n",
       " '2 521 7.0\\n',\n",
       " '2 528 5.0\\n',\n",
       " '2 534 2.0\\n',\n",
       " '2 551 1.0\\n',\n",
       " '2 556 2.0\\n',\n",
       " '2 559 1.0\\n',\n",
       " '2 564 1.0\\n',\n",
       " '2 576 3.0\\n',\n",
       " '2 583 1.0\\n',\n",
       " '2 584 1.0\\n',\n",
       " '2 593 1.0\\n',\n",
       " '2 598 1.0\\n',\n",
       " '2 613 11.0\\n',\n",
       " '2 623 1.0\\n',\n",
       " '2 632 1.0\\n',\n",
       " '2 637 11.0\\n',\n",
       " '2 640 1.0\\n',\n",
       " '2 641 1.0\\n',\n",
       " '2 647 1.0\\n',\n",
       " '2 650 2.0\\n',\n",
       " '2 652 1.0\\n',\n",
       " '2 653 1.0\\n',\n",
       " '2 656 1.0\\n',\n",
       " '2 658 1.0\\n',\n",
       " '2 661 2.0\\n',\n",
       " '2 662 1.0\\n',\n",
       " '2 665 2.0\\n',\n",
       " '2 669 1.0\\n',\n",
       " '2 670 2.0\\n',\n",
       " '2 672 2.0\\n',\n",
       " '2 673 1.0\\n',\n",
       " '2 674 2.0\\n',\n",
       " '2 689 1.0\\n',\n",
       " '2 691 5.0\\n',\n",
       " '2 692 1.0\\n',\n",
       " '2 716 2.0\\n',\n",
       " '2 726 1.0\\n',\n",
       " '2 739 1.0\\n',\n",
       " '2 746 1.0\\n',\n",
       " '2 749 1.0\\n',\n",
       " '2 750 3.0\\n',\n",
       " '2 760 2.0\\n',\n",
       " '2 763 1.0\\n',\n",
       " '2 772 1.0\\n',\n",
       " '2 776 3.0\\n',\n",
       " '2 780 2.0\\n',\n",
       " '2 781 3.0\\n',\n",
       " '2 788 1.0\\n',\n",
       " '2 791 2.0\\n',\n",
       " '2 793 1.0\\n',\n",
       " '2 794 2.0\\n',\n",
       " '2 797 1.0\\n',\n",
       " '2 808 1.0\\n',\n",
       " '2 815 2.0\\n',\n",
       " '2 816 2.0\\n',\n",
       " '2 819 1.0\\n',\n",
       " '2 831 9.0\\n',\n",
       " '2 832 1.0\\n',\n",
       " '2 845 1.0\\n',\n",
       " '2 848 2.0\\n',\n",
       " '2 853 1.0\\n',\n",
       " '2 860 1.0\\n',\n",
       " '2 867 1.0\\n',\n",
       " '2 869 2.0\\n',\n",
       " '2 886 1.0\\n',\n",
       " '2 895 1.0\\n',\n",
       " '2 902 3.0\\n',\n",
       " '2 919 1.0\\n',\n",
       " '2 946 2.0\\n',\n",
       " '2 959 1.0\\n',\n",
       " '2 984 1.0\\n',\n",
       " '2 1095 2.0\\n',\n",
       " '2 1233 1.0\\n',\n",
       " '2 1256 1.0\\n',\n",
       " '2 1276 1.0\\n',\n",
       " '2 1292 1.0\\n',\n",
       " '2 1374 1.0\\n',\n",
       " '2 1381 1.0\\n',\n",
       " '2 1425 2.0\\n',\n",
       " '2 1434 2.0\\n',\n",
       " '2 1437 1.0\\n',\n",
       " '2 1586 1.0\\n',\n",
       " '2 1600 1.0\\n',\n",
       " '2 1601 1.0\\n',\n",
       " '2 1602 1.0\\n',\n",
       " '2 1608 1.0\\n',\n",
       " '2 1613 1.0\\n',\n",
       " '2 1628 1.0\\n',\n",
       " '2 1636 1.0\\n',\n",
       " '2 1638 2.0\\n',\n",
       " '2 1645 1.0\\n',\n",
       " '2 1647 5.0\\n',\n",
       " '2 1651 1.0\\n',\n",
       " '2 1655 2.0\\n',\n",
       " '2 1657 1.0\\n',\n",
       " '2 1664 4.0\\n',\n",
       " '2 1671 3.0\\n',\n",
       " '2 1696 1.0\\n',\n",
       " '2 1701 1.0\\n',\n",
       " '2 1705 1.0\\n',\n",
       " '2 1718 1.0\\n',\n",
       " '2 1719 1.0\\n',\n",
       " '2 1723 1.0\\n',\n",
       " '2 1728 1.0\\n',\n",
       " '2 1828 1.0\\n',\n",
       " '2 1849 1.0\\n',\n",
       " '2 1864 1.0\\n',\n",
       " '2 1867 1.0\\n',\n",
       " '2 1876 2.0\\n',\n",
       " '2 1878 1.0\\n',\n",
       " '2 1887 1.0\\n',\n",
       " '2 1888 6.0\\n',\n",
       " '2 1893 1.0\\n',\n",
       " '2 1908 1.0\\n',\n",
       " '2 1917 1.0\\n',\n",
       " '2 1924 1.0\\n',\n",
       " '2 1936 1.0\\n',\n",
       " '2 1938 3.0\\n',\n",
       " '2 1943 3.0\\n',\n",
       " '2 1951 1.0\\n',\n",
       " '2 1952 1.0\\n',\n",
       " '2 1954 10.0\\n',\n",
       " '2 1956 2.0\\n',\n",
       " '2 1958 1.0\\n',\n",
       " '2 1969 1.0\\n',\n",
       " '2 1972 1.0\\n',\n",
       " '2 1977 2.0\\n',\n",
       " '2 1984 3.0\\n',\n",
       " '2 1987 2.0\\n',\n",
       " '2 1996 1.0\\n',\n",
       " '2 1998 3.0\\n',\n",
       " '2 2000 2.0\\n',\n",
       " '2 2002 10.0\\n',\n",
       " '2 2009 2.0\\n',\n",
       " '2 2017 1.0\\n',\n",
       " '2 2019 1.0\\n',\n",
       " '2 2027 3.0\\n',\n",
       " '2 2033 1.0\\n',\n",
       " '2 2043 2.0\\n',\n",
       " '2 2048 2.0\\n',\n",
       " '2 2052 1.0\\n',\n",
       " '2 2059 3.0\\n',\n",
       " '2 2062 2.0\\n',\n",
       " '2 2071 2.0\\n',\n",
       " '2 2073 1.0\\n',\n",
       " '2 2084 1.0\\n',\n",
       " '2 2087 1.0\\n',\n",
       " '2 2100 1.0\\n',\n",
       " '2 2102 1.0\\n',\n",
       " '2 2110 2.0\\n',\n",
       " '2 2111 1.0\\n',\n",
       " '2 2115 2.0\\n',\n",
       " '2 2119 1.0\\n',\n",
       " '2 2120 1.0\\n',\n",
       " '2 2121 1.0\\n',\n",
       " '2 2122 1.0\\n',\n",
       " '2 2124 3.0\\n',\n",
       " '2 2141 1.0\\n',\n",
       " '2 2150 1.0\\n',\n",
       " '2 2156 1.0\\n',\n",
       " '2 2162 6.0\\n',\n",
       " '2 2175 4.0\\n',\n",
       " '2 2183 5.0\\n',\n",
       " '2 2187 2.0\\n',\n",
       " '2 2192 1.0\\n',\n",
       " '2 2195 1.0\\n',\n",
       " '2 2196 1.0\\n',\n",
       " '2 2198 1.0\\n',\n",
       " '2 2208 1.0\\n',\n",
       " '2 2215 2.0\\n',\n",
       " '2 2219 2.0\\n',\n",
       " '2 2225 1.0\\n',\n",
       " '3 1 2.0\\n',\n",
       " '3 2 1.0\\n',\n",
       " '3 7 1.0\\n',\n",
       " '3 13 2.0\\n',\n",
       " '3 14 1.0\\n',\n",
       " '3 31 1.0\\n',\n",
       " '3 32 1.0\\n',\n",
       " '3 35 1.0\\n',\n",
       " '3 40 2.0\\n',\n",
       " '3 44 1.0\\n',\n",
       " '3 50 1.0\\n',\n",
       " '3 52 1.0\\n',\n",
       " '3 54 1.0\\n',\n",
       " '3 56 1.0\\n',\n",
       " '3 65 1.0\\n',\n",
       " '3 68 2.0\\n',\n",
       " '3 73 1.0\\n',\n",
       " '3 75 1.0\\n',\n",
       " ...]"
      ]
     },
     "execution_count": 51,
     "metadata": {},
     "output_type": "execute_result"
    }
   ],
   "source": [
    "content"
   ]
  },
  {
   "cell_type": "code",
   "execution_count": 52,
   "metadata": {},
   "outputs": [
    {
     "data": {
      "text/plain": [
       "'9635 2225 286774\\n'"
      ]
     },
     "execution_count": 52,
     "metadata": {},
     "output_type": "execute_result"
    }
   ],
   "source": [
    "content.pop(0)\n",
    "content.pop(0)"
   ]
  },
  {
   "cell_type": "markdown",
   "metadata": {},
   "source": [
    "## Part 1\n",
    "\n",
    "Here, we will turn this into a list of tuples representing a [sparse matrix](https://docs.scipy.org/doc/scipy/reference/sparse.html). Remember the description of the file from above:\n",
    "\n",
    "* *bbc.mtx* is a list: first column is **wordID**, second is **articleID** and the third is the number of times that word appeared in that article.\n",
    "\n",
    "So, if word 1 appears in article 3, 2 times, one element of our list will be:\n",
    "\n",
    "`(1, 3, 2)`"
   ]
  },
  {
   "cell_type": "code",
   "execution_count": 53,
   "metadata": {},
   "outputs": [
    {
     "data": {
      "text/plain": [
       "[(1, 1, 1),\n",
       " (1, 7, 2),\n",
       " (1, 11, 1),\n",
       " (1, 14, 1),\n",
       " (1, 15, 2),\n",
       " (1, 19, 2),\n",
       " (1, 21, 1),\n",
       " (1, 29, 1)]"
      ]
     },
     "execution_count": 53,
     "metadata": {},
     "output_type": "execute_result"
    }
   ],
   "source": [
    "sparsemat = [tuple(map(int,map(float,c.split()))) for c in content]\n",
    "# Let's examine the first few elements\n",
    "sparsemat[:8]"
   ]
  },
  {
   "cell_type": "markdown",
   "metadata": {},
   "source": [
    "## Part 2: Preparing Sparse Matrix data for NMF "
   ]
  },
  {
   "cell_type": "markdown",
   "metadata": {},
   "source": [
    "We will use the [coo matrix](https://docs.scipy.org/doc/scipy/reference/generated/scipy.sparse.coo_matrix.html) function to turn the sparse matrix into an array. "
   ]
  },
  {
   "cell_type": "code",
   "execution_count": 54,
   "metadata": {},
   "outputs": [],
   "source": [
    "import numpy as np\n",
    "from scipy.sparse import coo_matrix\n",
    "rows = [x[0] for x in sparsemat]\n",
    "cols = [x[1] for x in sparsemat]\n",
    "values = [x[2] for x in sparsemat]\n",
    "coo = coo_matrix((values, (rows, cols)))"
   ]
  },
  {
   "cell_type": "markdown",
   "metadata": {},
   "source": [
    "## NMF"
   ]
  },
  {
   "cell_type": "markdown",
   "metadata": {},
   "source": [
    "NMF is a way of decomposing a matrix of documents and words so that one of the matrices can be interpreted as the \"loadings\" or \"weights\" of each word on a topic. "
   ]
  },
  {
   "cell_type": "markdown",
   "metadata": {},
   "source": [
    "Check out [the NMF documentation](http://scikit-learn.org/stable/modules/generated/sklearn.decomposition.NMF.html) and the [examples of topic extraction using NMF and LDA](http://scikit-learn.org/0.18/auto_examples/applications/topics_extraction_with_nmf_lda.html)."
   ]
  },
  {
   "cell_type": "markdown",
   "metadata": {},
   "source": [
    "## Part 3\n",
    "\n",
    "Here, we will import `NMF`, define a model object with 5 components, and `fit_transform` the data created above."
   ]
  },
  {
   "cell_type": "code",
   "execution_count": 55,
   "metadata": {},
   "outputs": [
    {
     "data": {
      "text/plain": [
       "(9636, 5)"
      ]
     },
     "execution_count": 55,
     "metadata": {},
     "output_type": "execute_result"
    }
   ],
   "source": [
    "from sklearn.decomposition import NMF\n",
    "model = NMF(n_components=5, init='random', random_state=818)\n",
    "doc_topic = model.fit_transform(coo)\n",
    "\n",
    "doc_topic.shape\n",
    "# we should have 9636 observations (articles) and five latent features"
   ]
  },
  {
   "cell_type": "code",
   "execution_count": 56,
   "metadata": {},
   "outputs": [
    {
     "data": {
      "text/plain": [
       "array([0, 0, 2, ..., 4, 4, 4], dtype=int64)"
      ]
     },
     "execution_count": 56,
     "metadata": {},
     "output_type": "execute_result"
    }
   ],
   "source": [
    "# find feature with highest value per doc\n",
    "np.argmax(doc_topic, axis=1)"
   ]
  },
  {
   "cell_type": "markdown",
   "metadata": {},
   "source": [
    "## Part 4: \n",
    "\n",
    "Check out the `components` of this model:"
   ]
  },
  {
   "cell_type": "code",
   "execution_count": 57,
   "metadata": {},
   "outputs": [
    {
     "data": {
      "text/plain": [
       "(5, 2226)"
      ]
     },
     "execution_count": 57,
     "metadata": {},
     "output_type": "execute_result"
    }
   ],
   "source": [
    "model.components_.shape"
   ]
  },
  {
   "cell_type": "markdown",
   "metadata": {},
   "source": [
    "This is five rows, each of which is a \"topic\" containing the weights of each word on that topic. The exercise is to _get a list of the top 10 words for each topic_. We can just store this in a list of lists."
   ]
  },
  {
   "cell_type": "markdown",
   "metadata": {},
   "source": [
    "**Note:** Just like we read in the data above, we'll have to read in the words from the `bbc.terms` file."
   ]
  },
  {
   "cell_type": "code",
   "execution_count": 59,
   "metadata": {},
   "outputs": [],
   "source": [
    "with open('bbc.terms') as f:\n",
    "    content = f.readlines()\n",
    "words = [c.split()[0] for c in content]"
   ]
  },
  {
   "cell_type": "code",
   "execution_count": 60,
   "metadata": {},
   "outputs": [],
   "source": [
    "topic_words = []\n",
    "for r in model.components_:\n",
    "    a = sorted([(v,i) for i,v in enumerate(r)],reverse=True)[0:12]\n",
    "    topic_words.append([words[e[1]] for e in a])"
   ]
  },
  {
   "cell_type": "code",
   "execution_count": 61,
   "metadata": {},
   "outputs": [
    {
     "data": {
      "text/plain": [
       "[['bondi',\n",
       "  'stanlei',\n",
       "  'continent',\n",
       "  'mortgag',\n",
       "  'bare',\n",
       "  'least',\n",
       "  'extent',\n",
       "  '200',\n",
       "  'leav',\n",
       "  'frustrat',\n",
       "  'yuan',\n",
       "  'industri'],\n",
       " ['manipul',\n",
       "  'teenag',\n",
       "  'drawn',\n",
       "  'go',\n",
       "  'prosecutor',\n",
       "  'herbert',\n",
       "  'host',\n",
       "  'protest',\n",
       "  'hike',\n",
       "  'nation',\n",
       "  'calcul',\n",
       "  'power'],\n",
       " ['dimens',\n",
       "  'hous',\n",
       "  'march',\n",
       "  'wider',\n",
       "  'owner',\n",
       "  'intend',\n",
       "  'declin',\n",
       "  'forc',\n",
       "  'posit',\n",
       "  'founder',\n",
       "  'york',\n",
       "  'unavail'],\n",
       " ['rome',\n",
       "  'ft',\n",
       "  'regain',\n",
       "  'lawmak',\n",
       "  'outright',\n",
       "  'resum',\n",
       "  'childhood',\n",
       "  'greatest',\n",
       "  'citi',\n",
       "  'stagnat',\n",
       "  'crown',\n",
       "  'bodi'],\n",
       " ['build',\n",
       "  'empir',\n",
       "  'isol',\n",
       "  'Â£12',\n",
       "  'restructur',\n",
       "  'closer',\n",
       "  'plung',\n",
       "  'depreci',\n",
       "  'durham',\n",
       "  'race',\n",
       "  'juli',\n",
       "  'segreg']]"
      ]
     },
     "execution_count": 61,
     "metadata": {},
     "output_type": "execute_result"
    }
   ],
   "source": [
    "# Here, each set of words relates to the corresponding topic (ie the first set of words relates to topic 'Business', etc.)\n",
    "topic_words[:5]"
   ]
  },
  {
   "cell_type": "markdown",
   "metadata": {},
   "source": [
    "The original data had 5 topics, as listed in `bbc.docs` (which these topic words relate to). \n",
    "\n",
    "```\n",
    "Business\n",
    "Entertainment\n",
    "Politics\n",
    "Sport\n",
    "Tech\n",
    "```\n",
    "\n",
    "In \"real life\", we would have found a way to use these to inform the model. But for this little demo, we can just compare the recovered topics to the original ones. And they seem to match reasonably well. The order is different, which is to be expected in this kind of model."
   ]
  },
  {
   "cell_type": "code",
   "execution_count": 63,
   "metadata": {},
   "outputs": [
    {
     "data": {
      "text/plain": [
       "['business.001\\n',\n",
       " 'business.002\\n',\n",
       " 'business.003\\n',\n",
       " 'business.004\\n',\n",
       " 'business.005\\n',\n",
       " 'business.006\\n',\n",
       " 'business.007\\n',\n",
       " 'business.008\\n']"
      ]
     },
     "execution_count": 63,
     "metadata": {},
     "output_type": "execute_result"
    }
   ],
   "source": [
    "with open('bbc.docs') as d:\n",
    "    doc_content = d.readlines()\n",
    "    \n",
    "doc_content[:8]"
   ]
  },
  {
   "cell_type": "markdown",
   "metadata": {},
   "source": [
    "---"
   ]
  },
  {
   "cell_type": "markdown",
   "metadata": {},
   "source": [
    "### PCA Application in Image Processing"
   ]
  },
  {
   "cell_type": "markdown",
   "metadata": {},
   "source": [
    "<img src = \"Imaging.jpg\">\n",
    "<img src = \"Imaging1.jpg\">\n",
    "<img src = \"Imaging2.jpg\">\n",
    "<img src = \"Imaging3.jpg\">\n",
    "<img src = \"Imaging4.jpg\">\n",
    "<img src = \"Imaging5.jpg\">\n",
    "<img src = \"Imaging6.jpg\">\n",
    "<img src = \"Imaging7.jpg\">\n",
    "<img src = \"Imaging8.jpg\">\n",
    "<img src = \"Imaging9.jpg\">\n",
    "<img src = \"Imaging10.jpg\">\n",
    "<img src = \"Imaging11.jpg\">"
   ]
  },
  {
   "cell_type": "markdown",
   "metadata": {},
   "source": []
  }
 ],
 "metadata": {
  "interpreter": {
   "hash": "66aefaa15347530fd336e5ff4c6baa78eb01ac4bdb41d42482c99492d43d4e3d"
  },
  "kernelspec": {
   "display_name": "Python 3.6.12 ('data_science')",
   "language": "python",
   "name": "python3"
  },
  "language_info": {
   "codemirror_mode": {
    "name": "ipython",
    "version": 3
   },
   "file_extension": ".py",
   "mimetype": "text/x-python",
   "name": "python",
   "nbconvert_exporter": "python",
   "pygments_lexer": "ipython3",
   "version": "3.6.12"
  },
  "orig_nbformat": 4
 },
 "nbformat": 4,
 "nbformat_minor": 2
}

{
 "cells": [
  {
   "cell_type": "markdown",
   "metadata": {},
   "source": [
    "## Unsupervised Machine Learning"
   ]
  },
  {
   "cell_type": "markdown",
   "metadata": {},
   "source": [
    "### Introduction to Unsupervised Learning"
   ]
  },
  {
   "cell_type": "markdown",
   "metadata": {},
   "source": [
    "<img src = \"Introduction.jpg\">\n",
    "<img src = \"Introduction1.jpg\">\n",
    "<img src = \"Introduction2.jpg\">\n",
    "<img src = \"Introduction3.jpg\">\n",
    "<img src = \"Introduction4.jpg\">\n",
    "<img src = \"Introduction5.jpg\">\n",
    "<img src = \"Introduction6.jpg\">\n",
    "<img src = \"Introduction7.jpg\">\n",
    "<img src = \"Introduction8.jpg\">\n",
    "<img src = \"Introduction9.jpg\">\n",
    "<img src = \"Introduction10.jpg\">\n",
    "<img src = \"Introduction11.jpg\">\n",
    "<img src = \"Introduction12.jpg\">"
   ]
  }
 ],
 "metadata": {
  "language_info": {
   "name": "python"
  },
  "orig_nbformat": 4
 },
 "nbformat": 4,
 "nbformat_minor": 2
}

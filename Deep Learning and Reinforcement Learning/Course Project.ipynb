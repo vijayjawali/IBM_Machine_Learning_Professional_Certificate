{
 "cells": [
  {
   "cell_type": "code",
   "execution_count": null,
   "metadata": {},
   "outputs": [],
   "source": []
  }
 ],
 "metadata": {
  "kernelspec": {
   "display_name": "Python 3.8.5 ('base')",
   "language": "python",
   "name": "python3"
  },
  "language_info": {
   "name": "python",
   "version": "3.8.5"
  },
  "orig_nbformat": 4,
  "vscode": {
   "interpreter": {
    "hash": "2a9d73323239a038e2598e03460358b35a0f5840d779364a844fb4ed62666ace"
   }
  }
 },
 "nbformat": 4,
 "nbformat_minor": 2
}

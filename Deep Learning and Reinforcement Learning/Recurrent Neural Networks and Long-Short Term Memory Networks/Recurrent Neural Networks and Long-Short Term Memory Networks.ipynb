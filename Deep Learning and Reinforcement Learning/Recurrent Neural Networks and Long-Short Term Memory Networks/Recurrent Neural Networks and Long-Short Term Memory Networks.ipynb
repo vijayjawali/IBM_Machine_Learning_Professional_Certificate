{
 "cells": [
  {
   "cell_type": "markdown",
   "metadata": {},
   "source": [
    "## Recurent Neural Networks"
   ]
  },
  {
   "cell_type": "markdown",
   "metadata": {},
   "source": [
    "<img src = \"Introduction to RNN.jpg\">\n",
    "<img src = \"Introduction to RNN1.jpg\">\n",
    "<img src = \"Introduction to RNN2.jpg\">\n",
    "<img src = \"Introduction to RNN3.jpg\">\n",
    "<img src = \"Introduction to RNN4.jpg\">\n",
    "<img src = \"Introduction to RNN5.jpg\">\n",
    "<img src = \"Introduction to RNN6.jpg\">\n",
    "<img src = \"Introduction to RNN7.jpg\">\n",
    "<img src = \"Introduction to RNN8.jpg\">\n",
    "<img src = \"Introduction to RNN9.jpg\">\n",
    "<img src = \"Introduction to RNN10.jpg\">\n",
    "<img src = \"Introduction to RNN11.jpg\">\n",
    "<img src = \"Introduction to RNN12.jpg\">\n",
    "<img src = \"Introduction to RNN13.jpg\">\n",
    "<img src = \"Introduction to RNN14.jpg\">\n",
    "<img src = \"Introduction to RNN15.jpg\">\n",
    "<img src = \"Introduction to RNN16.jpg\">"
   ]
  },
  {
   "cell_type": "markdown",
   "metadata": {
    "run_control": {
     "marked": true
    }
   },
   "source": [
    "# Machine Learning Foundation\n",
    "\n",
    "## Course 5, Part g: RNN DEMO"
   ]
  },
  {
   "cell_type": "markdown",
   "metadata": {},
   "source": [
    "## Using RNNs to classify sentiment on IMDB data\n",
    "For this exercise, we will train a \"vanilla\" RNN to predict the sentiment on IMDB reviews.  Our data consists of 25000 training sequences and 25000 test sequences.  The outcome is binary (positive/negative) and both outcomes are equally represented in both the training and the test set.\n",
    "\n",
    "Keras provides a convenient interface to load the data and immediately encode the words into integers (based on the most common words).  This will save us a lot of the drudgery that is usually involved when working with raw text.\n",
    "\n",
    "We will walk through the preparation of the data and the building of an RNN model.  Then it will be your turn to build your own models (and prepare the data how you see fit)."
   ]
  },
  {
   "cell_type": "code",
   "execution_count": 1,
   "metadata": {},
   "outputs": [],
   "source": [
    "from tensorflow import keras\n",
    "from tensorflow.keras.preprocessing import sequence\n",
    "from tensorflow.keras.models import Sequential\n",
    "from tensorflow.keras.layers import Dense, Embedding\n",
    "from tensorflow.keras.layers import SimpleRNN\n",
    "from tensorflow.keras.datasets import imdb\n",
    "from tensorflow.keras import initializers\n",
    "\n",
    "#import keras\n",
    "#from keras.preprocessing import sequence\n",
    "#from keras.models import Sequential\n",
    "#from keras.layers import Dense, Embedding\n",
    "#from keras.layers import SimpleRNN\n",
    "#from keras.datasets import imdb\n",
    "#from keras import initializers"
   ]
  },
  {
   "cell_type": "code",
   "execution_count": 2,
   "metadata": {},
   "outputs": [],
   "source": [
    "max_features = 20000  # This is used in loading the data, picks the most common (max_features) words\n",
    "maxlen = 30  # maximum length of a sequence - truncate after this\n",
    "batch_size = 32"
   ]
  },
  {
   "cell_type": "code",
   "execution_count": 3,
   "metadata": {},
   "outputs": [
    {
     "name": "stdout",
     "output_type": "stream",
     "text": [
      "Downloading data from https://storage.googleapis.com/tensorflow/tf-keras-datasets/imdb.npz\n",
      "17465344/17464789 [==============================] - 4s 0us/step\n",
      "17473536/17464789 [==============================] - 4s 0us/step\n",
      "25000 train sequences\n",
      "25000 test sequences\n"
     ]
    }
   ],
   "source": [
    "## Load in the data.  The function automatically tokenizes the text into distinct integers\n",
    "(x_train, y_train), (x_test, y_test) = imdb.load_data(num_words=max_features)\n",
    "print(len(x_train), 'train sequences')\n",
    "print(len(x_test), 'test sequences')"
   ]
  },
  {
   "cell_type": "code",
   "execution_count": 4,
   "metadata": {},
   "outputs": [
    {
     "name": "stdout",
     "output_type": "stream",
     "text": [
      "x_train shape: (25000, 30)\n",
      "x_test shape: (25000, 30)\n"
     ]
    }
   ],
   "source": [
    "# This pads (or truncates) the sequences so that they are of the maximum length\n",
    "x_train = sequence.pad_sequences(x_train, maxlen=maxlen)\n",
    "x_test = sequence.pad_sequences(x_test, maxlen=maxlen)\n",
    "print('x_train shape:', x_train.shape)\n",
    "print('x_test shape:', x_test.shape)"
   ]
  },
  {
   "cell_type": "code",
   "execution_count": 5,
   "metadata": {},
   "outputs": [
    {
     "data": {
      "text/plain": [
       "array([  219,   141,    35,   221,   956,    54,    13,    16,    11,\n",
       "        2714,    61,   322,   423,    12,    38,    76,    59,  1803,\n",
       "          72,     8, 10508,    23,     5,   967,    12,    38,    85,\n",
       "          62,   358,    99])"
      ]
     },
     "execution_count": 5,
     "metadata": {},
     "output_type": "execute_result"
    }
   ],
   "source": [
    "x_train[123,:]  #Here's what an example sequence looks like"
   ]
  },
  {
   "cell_type": "markdown",
   "metadata": {},
   "source": [
    "## Keras layers for (Vanilla) RNNs\n",
    "\n",
    "In this exercise, we will not use pre-trained word vectors.  Rather we will learn an embedding as part of the Neural Network.  This is represented by the Embedding Layer below.\n",
    "\n",
    "### Embedding Layer\n",
    "`keras.layers.embeddings.Embedding(input_dim, output_dim, embeddings_initializer='uniform', embeddings_regularizer=None, activity_regularizer=None, embeddings_constraint=None, mask_zero=False, input_length=None)`\n",
    "\n",
    "- This layer maps each integer into a distinct (dense) word vector of length `output_dim`.\n",
    "- Can think of this as learning a word vector embedding \"on the fly\" rather than using an existing mapping (like GloVe)\n",
    "- The `input_dim` should be the size of the vocabulary.\n",
    "- The `input_length` specifies the length of the sequences that the network expects.\n",
    "\n",
    "### SimpleRNN Layer\n",
    "`keras.layers.recurrent.SimpleRNN(units, activation='tanh', use_bias=True, kernel_initializer='glorot_uniform', recurrent_initializer='orthogonal', bias_initializer='zeros', kernel_regularizer=None, recurrent_regularizer=None, bias_regularizer=None, activity_regularizer=None, kernel_constraint=None, recurrent_constraint=None, bias_constraint=None, dropout=0.0, recurrent_dropout=0.0)`\n",
    "\n",
    "- This is the basic RNN, where the output is also fed back as the \"hidden state\" to the next iteration.\n",
    "- The parameter `units` gives the dimensionality of the output (and therefore the hidden state).  Note that typically there will be another layer after the RNN mapping the (RNN) output to the network output.  So we should think of this value as the desired dimensionality of the hidden state and not necessarily the desired output of the network.\n",
    "- Recall that there are two sets of weights, one for the \"recurrent\" phase and the other for the \"kernel\" phase.  These can be configured separately in terms of their initialization, regularization, etc.\n",
    "\n",
    "\n",
    "\n",
    "\n"
   ]
  },
  {
   "cell_type": "code",
   "execution_count": 8,
   "metadata": {},
   "outputs": [],
   "source": [
    "## Let's build a RNN\n",
    "\n",
    "rnn_hidden_dim = 5\n",
    "word_embedding_dim = 50\n",
    "model_rnn = Sequential()\n",
    "model_rnn.add(Embedding(max_features, word_embedding_dim))  #This layer takes each integer in the sequence and embeds it in a 50-dimensional vector\n",
    "model_rnn.add(SimpleRNN(rnn_hidden_dim,\n",
    "                    kernel_initializer=initializers.RandomNormal(stddev=0.001),\n",
    "                    recurrent_initializer=initializers.Identity(gain=1.0),\n",
    "                    activation='relu',\n",
    "                    input_shape=x_train.shape[1:]))\n",
    "\n",
    "model_rnn.add(Dense(1, activation='sigmoid'))"
   ]
  },
  {
   "cell_type": "code",
   "execution_count": 9,
   "metadata": {},
   "outputs": [
    {
     "name": "stdout",
     "output_type": "stream",
     "text": [
      "Model: \"sequential_1\"\n",
      "_________________________________________________________________\n",
      "Layer (type)                 Output Shape              Param #   \n",
      "=================================================================\n",
      "embedding_1 (Embedding)      (None, None, 50)          1000000   \n",
      "_________________________________________________________________\n",
      "simple_rnn_1 (SimpleRNN)     (None, 5)                 280       \n",
      "_________________________________________________________________\n",
      "dense_1 (Dense)              (None, 1)                 6         \n",
      "=================================================================\n",
      "Total params: 1,000,286\n",
      "Trainable params: 1,000,286\n",
      "Non-trainable params: 0\n",
      "_________________________________________________________________\n"
     ]
    }
   ],
   "source": [
    "## Note that most of the parameters come from the embedding layer\n",
    "model_rnn.summary()"
   ]
  },
  {
   "cell_type": "code",
   "execution_count": 10,
   "metadata": {},
   "outputs": [
    {
     "name": "stderr",
     "output_type": "stream",
     "text": [
      "c:\\Users\\vijay\\anaconda3\\envs\\data_science\\lib\\site-packages\\keras\\optimizer_v2\\optimizer_v2.py:356: UserWarning: The `lr` argument is deprecated, use `learning_rate` instead.\n",
      "  \"The `lr` argument is deprecated, use `learning_rate` instead.\")\n"
     ]
    }
   ],
   "source": [
    "rmsprop = keras.optimizers.RMSprop(lr = .0001)\n",
    "\n",
    "model_rnn.compile(loss='binary_crossentropy',\n",
    "              optimizer=rmsprop,\n",
    "              metrics=['accuracy'])"
   ]
  },
  {
   "cell_type": "code",
   "execution_count": 13,
   "metadata": {},
   "outputs": [
    {
     "name": "stdout",
     "output_type": "stream",
     "text": [
      "Epoch 1/10\n",
      "782/782 [==============================] - 13s 16ms/step - loss: 0.3595 - accuracy: 0.8402 - val_loss: 0.4491 - val_accuracy: 0.7890\n",
      "Epoch 2/10\n",
      "782/782 [==============================] - 14s 18ms/step - loss: 0.3542 - accuracy: 0.8433 - val_loss: 0.4493 - val_accuracy: 0.7911\n",
      "Epoch 3/10\n",
      "782/782 [==============================] - 13s 17ms/step - loss: 0.3488 - accuracy: 0.8467 - val_loss: 0.4511 - val_accuracy: 0.7915\n",
      "Epoch 4/10\n",
      "782/782 [==============================] - 13s 17ms/step - loss: 0.3449 - accuracy: 0.8486 - val_loss: 0.4497 - val_accuracy: 0.7923\n",
      "Epoch 5/10\n",
      "782/782 [==============================] - 13s 17ms/step - loss: 0.3411 - accuracy: 0.8507 - val_loss: 0.4512 - val_accuracy: 0.7920\n",
      "Epoch 6/10\n",
      "782/782 [==============================] - 14s 18ms/step - loss: 0.3379 - accuracy: 0.8530 - val_loss: 0.4502 - val_accuracy: 0.7929\n",
      "Epoch 7/10\n",
      "782/782 [==============================] - 14s 18ms/step - loss: 0.3348 - accuracy: 0.8541 - val_loss: 0.4526 - val_accuracy: 0.7932\n",
      "Epoch 8/10\n",
      "782/782 [==============================] - 13s 16ms/step - loss: 0.3324 - accuracy: 0.8550 - val_loss: 0.4532 - val_accuracy: 0.7931\n",
      "Epoch 9/10\n",
      "782/782 [==============================] - 11s 14ms/step - loss: 0.3299 - accuracy: 0.8570 - val_loss: 0.4536 - val_accuracy: 0.7927\n",
      "Epoch 10/10\n",
      "782/782 [==============================] - 12s 15ms/step - loss: 0.3277 - accuracy: 0.8572 - val_loss: 0.4543 - val_accuracy: 0.7942\n"
     ]
    },
    {
     "data": {
      "text/plain": [
       "<keras.callbacks.History at 0x242233fcda0>"
      ]
     },
     "execution_count": 13,
     "metadata": {},
     "output_type": "execute_result"
    }
   ],
   "source": [
    "model_rnn.fit(x_train, y_train,\n",
    "          batch_size=batch_size,\n",
    "          epochs=10,\n",
    "          validation_data=(x_test, y_test))"
   ]
  },
  {
   "cell_type": "code",
   "execution_count": 14,
   "metadata": {},
   "outputs": [
    {
     "name": "stdout",
     "output_type": "stream",
     "text": [
      "782/782 [==============================] - 2s 3ms/step - loss: 0.4543 - accuracy: 0.7942: 1s - loss: 0.4639 - accuracy: \n",
      "Test score: 0.45426100492477417\n",
      "Test accuracy: 0.794160008430481\n"
     ]
    }
   ],
   "source": [
    "score, acc = model_rnn.evaluate(x_test, y_test,\n",
    "                            batch_size=batch_size)\n",
    "print('Test score:', score)\n",
    "print('Test accuracy:', acc)"
   ]
  },
  {
   "cell_type": "markdown",
   "metadata": {},
   "source": [
    "## Exercise\n",
    "\n",
    "In this exercise, we will illustrate:\n",
    "- Preparing the data to use sequences of length 80 rather than length 30.  Does it improve the performance?\n",
    "- Trying different values of the \"max_features\".  Does this  improve the performance?\n",
    "- Trying smaller and larger sizes of the RNN hidden dimension.  How does it affect the model performance?  How does it affect the run time?"
   ]
  },
  {
   "cell_type": "code",
   "execution_count": 24,
   "metadata": {},
   "outputs": [],
   "source": [
    "max_features = 20000  # This is used in loading the data, picks the most common (max_features) words\n",
    "maxlen = 80  # maximum length of a sequence - truncate after this\n",
    "\n",
    "(x_train, y_train), (x_test, y_test) = imdb.load_data(num_words=max_features)\n",
    "\n",
    "x_train = sequence.pad_sequences(x_train, maxlen=maxlen)\n",
    "x_test = sequence.pad_sequences(x_test, maxlen=maxlen)"
   ]
  },
  {
   "cell_type": "code",
   "execution_count": 25,
   "metadata": {},
   "outputs": [],
   "source": [
    "rnn_hidden_dim = 5\n",
    "word_embedding_dim = 50\n",
    "model_rnn = Sequential()\n",
    "model_rnn.add(Embedding(max_features, word_embedding_dim))  #This layer takes each integer in the sequence\n",
    "model_rnn.add(SimpleRNN(rnn_hidden_dim,\n",
    "                    kernel_initializer=initializers.RandomNormal(stddev=0.001),\n",
    "                    recurrent_initializer=initializers.Identity(gain=1.0),\n",
    "                    activation='relu',\n",
    "                    input_shape=x_train.shape[1:]))\n",
    "\n",
    "model_rnn.add(Dense(1, activation='sigmoid'))"
   ]
  },
  {
   "cell_type": "code",
   "execution_count": 26,
   "metadata": {},
   "outputs": [],
   "source": [
    "rmsprop = keras.optimizers.RMSprop(lr = .0001)\n",
    "\n",
    "model_rnn.compile(loss='binary_crossentropy',\n",
    "              optimizer=rmsprop,\n",
    "              metrics=['accuracy'])"
   ]
  },
  {
   "cell_type": "code",
   "execution_count": 27,
   "metadata": {},
   "outputs": [
    {
     "name": "stdout",
     "output_type": "stream",
     "text": [
      "Epoch 1/10\n",
      "782/782 [==============================] - 29s 35ms/step - loss: 0.6247 - accuracy: 0.6542 - val_loss: 0.5629 - val_accuracy: 0.7073\n",
      "Epoch 2/10\n",
      "782/782 [==============================] - 26s 34ms/step - loss: 0.4727 - accuracy: 0.7784 - val_loss: 0.4662 - val_accuracy: 0.7777\n",
      "Epoch 3/10\n",
      "782/782 [==============================] - 26s 34ms/step - loss: 0.4011 - accuracy: 0.8196 - val_loss: 0.4431 - val_accuracy: 0.8012\n",
      "Epoch 4/10\n",
      "782/782 [==============================] - 27s 34ms/step - loss: 0.3584 - accuracy: 0.8452 - val_loss: 0.4245 - val_accuracy: 0.8110\n",
      "Epoch 5/10\n",
      "782/782 [==============================] - 26s 33ms/step - loss: 0.3263 - accuracy: 0.8615 - val_loss: 0.3878 - val_accuracy: 0.8266\n",
      "Epoch 6/10\n",
      "782/782 [==============================] - 26s 33ms/step - loss: 0.3022 - accuracy: 0.8720 - val_loss: 0.3723 - val_accuracy: 0.8346\n",
      "Epoch 7/10\n",
      "782/782 [==============================] - 28s 36ms/step - loss: 0.2854 - accuracy: 0.8816 - val_loss: 0.3708 - val_accuracy: 0.8360\n",
      "Epoch 8/10\n",
      "782/782 [==============================] - 29s 37ms/step - loss: 0.2724 - accuracy: 0.8872 - val_loss: 0.3739 - val_accuracy: 0.8372\n",
      "Epoch 9/10\n",
      "782/782 [==============================] - 26s 33ms/step - loss: 0.2608 - accuracy: 0.8928 - val_loss: 0.4025 - val_accuracy: 0.8215\n",
      "Epoch 10/10\n",
      "782/782 [==============================] - 30s 38ms/step - loss: 0.2529 - accuracy: 0.8977 - val_loss: 0.3595 - val_accuracy: 0.8426\n"
     ]
    },
    {
     "data": {
      "text/plain": [
       "<keras.callbacks.History at 0x2422360b550>"
      ]
     },
     "execution_count": 27,
     "metadata": {},
     "output_type": "execute_result"
    }
   ],
   "source": [
    "model_rnn.fit(x_train, y_train,\n",
    "          batch_size=batch_size,\n",
    "          epochs=10,\n",
    "          validation_data=(x_test, y_test))"
   ]
  },
  {
   "cell_type": "code",
   "execution_count": 28,
   "metadata": {},
   "outputs": [],
   "source": [
    "max_features = 5000  # This is used in loading the data, picks the most common (max_features) words\n",
    "maxlen = 80  # maximum length of a sequence - truncate after this\n",
    "\n",
    "(x_train, y_train), (x_test, y_test) = imdb.load_data(num_words=max_features)\n",
    "\n",
    "x_train = sequence.pad_sequences(x_train, maxlen=maxlen)\n",
    "x_test = sequence.pad_sequences(x_test, maxlen=maxlen)"
   ]
  },
  {
   "cell_type": "code",
   "execution_count": 29,
   "metadata": {},
   "outputs": [],
   "source": [
    "rnn_hidden_dim = 5\n",
    "word_embedding_dim = 20\n",
    "model_rnn = Sequential()\n",
    "model_rnn.add(Embedding(max_features, word_embedding_dim))  #This layer takes each integer in the sequence\n",
    "model_rnn.add(SimpleRNN(rnn_hidden_dim,\n",
    "                    kernel_initializer=initializers.RandomNormal(stddev=0.001),\n",
    "                    recurrent_initializer=initializers.Identity(gain=1.0),\n",
    "                    activation='relu',\n",
    "                    input_shape=x_train.shape[1:]))\n",
    "\n",
    "model_rnn.add(Dense(1, activation='sigmoid'))"
   ]
  },
  {
   "cell_type": "code",
   "execution_count": 30,
   "metadata": {},
   "outputs": [],
   "source": [
    "rmsprop = keras.optimizers.RMSprop(lr = .0001)\n",
    "\n",
    "model_rnn.compile(loss='binary_crossentropy',\n",
    "              optimizer=rmsprop,\n",
    "              metrics=['accuracy'])"
   ]
  },
  {
   "cell_type": "code",
   "execution_count": 31,
   "metadata": {},
   "outputs": [
    {
     "name": "stdout",
     "output_type": "stream",
     "text": [
      "Epoch 1/10\n",
      "782/782 [==============================] - 21s 25ms/step - loss: 0.6560 - accuracy: 0.5971 - val_loss: 0.6138 - val_accuracy: 0.7029\n",
      "Epoch 2/10\n",
      "782/782 [==============================] - 19s 24ms/step - loss: 0.5897 - accuracy: 0.7503 - val_loss: 0.5830 - val_accuracy: 0.7493\n",
      "Epoch 3/10\n",
      "782/782 [==============================] - 18s 23ms/step - loss: 0.5571 - accuracy: 0.7922 - val_loss: 0.5612 - val_accuracy: 0.7946\n",
      "Epoch 4/10\n",
      "782/782 [==============================] - 18s 23ms/step - loss: 0.5353 - accuracy: 0.8101 - val_loss: 0.5477 - val_accuracy: 0.7991\n",
      "Epoch 5/10\n",
      "782/782 [==============================] - 17s 22ms/step - loss: 0.5166 - accuracy: 0.8218 - val_loss: 0.5338 - val_accuracy: 0.8053\n",
      "Epoch 6/10\n",
      "782/782 [==============================] - 20s 25ms/step - loss: 0.5012 - accuracy: 0.8286 - val_loss: 0.5302 - val_accuracy: 0.79449 - accuracy: \n",
      "Epoch 7/10\n",
      "782/782 [==============================] - 20s 26ms/step - loss: 0.4865 - accuracy: 0.8334 - val_loss: 0.5176 - val_accuracy: 0.8025\n",
      "Epoch 8/10\n",
      "782/782 [==============================] - 19s 25ms/step - loss: 0.4730 - accuracy: 0.8396 - val_loss: 0.5111 - val_accuracy: 0.7997\n",
      "Epoch 9/10\n",
      "782/782 [==============================] - 19s 24ms/step - loss: 0.4609 - accuracy: 0.8428 - val_loss: 0.4936 - val_accuracy: 0.8095\n",
      "Epoch 10/10\n",
      "782/782 [==============================] - 18s 22ms/step - loss: 0.4488 - accuracy: 0.8459 - val_loss: 0.5234 - val_accuracy: 0.7927\n"
     ]
    },
    {
     "data": {
      "text/plain": [
       "<keras.callbacks.History at 0x24223af7b38>"
      ]
     },
     "execution_count": 31,
     "metadata": {},
     "output_type": "execute_result"
    }
   ],
   "source": [
    "model_rnn.fit(x_train, y_train,\n",
    "          batch_size=batch_size,\n",
    "          epochs=10,\n",
    "          validation_data=(x_test, y_test))"
   ]
  },
  {
   "cell_type": "code",
   "execution_count": 23,
   "metadata": {},
   "outputs": [
    {
     "name": "stdout",
     "output_type": "stream",
     "text": [
      "Epoch 1/10\n",
      "782/782 [==============================] - 18s 23ms/step - loss: 0.3039 - accuracy: 0.8707 - val_loss: 0.3682 - val_accuracy: 0.8380\n",
      "Epoch 2/10\n",
      "782/782 [==============================] - 18s 23ms/step - loss: 0.2984 - accuracy: 0.8749 - val_loss: 0.3658 - val_accuracy: 0.8386\n",
      "Epoch 3/10\n",
      "782/782 [==============================] - 18s 23ms/step - loss: 0.2942 - accuracy: 0.8782 - val_loss: 0.3621 - val_accuracy: 0.8398\n",
      "Epoch 4/10\n",
      "782/782 [==============================] - 19s 24ms/step - loss: 0.2903 - accuracy: 0.8777 - val_loss: 0.3611 - val_accuracy: 0.8409\n",
      "Epoch 5/10\n",
      "782/782 [==============================] - 18s 23ms/step - loss: 0.2866 - accuracy: 0.8802 - val_loss: 0.3588 - val_accuracy: 0.8412\n",
      "Epoch 6/10\n",
      "782/782 [==============================] - 18s 23ms/step - loss: 0.2840 - accuracy: 0.8803 - val_loss: 0.3638 - val_accuracy: 0.8395\n",
      "Epoch 7/10\n",
      "782/782 [==============================] - 18s 23ms/step - loss: 0.2812 - accuracy: 0.8820 - val_loss: 0.3755 - val_accuracy: 0.8336\n",
      "Epoch 8/10\n",
      "782/782 [==============================] - 17s 22ms/step - loss: 0.2784 - accuracy: 0.8828 - val_loss: 0.3703 - val_accuracy: 0.8370\n",
      "Epoch 9/10\n",
      "782/782 [==============================] - 18s 23ms/step - loss: 0.2766 - accuracy: 0.8833 - val_loss: 0.3612 - val_accuracy: 0.8409\n",
      "Epoch 10/10\n",
      "782/782 [==============================] - 18s 23ms/step - loss: 0.2739 - accuracy: 0.8852 - val_loss: 0.3665 - val_accuracy: 0.8389\n"
     ]
    },
    {
     "data": {
      "text/plain": [
       "<keras.callbacks.History at 0x2422392ff98>"
      ]
     },
     "execution_count": 23,
     "metadata": {},
     "output_type": "execute_result"
    }
   ],
   "source": [
    "# Out of curiosity, run for 10 more epochs\n",
    "model_rnn.fit(x_train, y_train,\n",
    "          batch_size=batch_size,\n",
    "          epochs=10,\n",
    "          validation_data=(x_test, y_test))"
   ]
  },
  {
   "cell_type": "markdown",
   "metadata": {},
   "source": [
    "---"
   ]
  },
  {
   "cell_type": "markdown",
   "metadata": {},
   "source": [
    "#### Long-Short Term memory Networks"
   ]
  },
  {
   "cell_type": "markdown",
   "metadata": {},
   "source": [
    "<img src = \"LSTM.jpg\">\n",
    "<img src = \"LSTM1.jpg\">\n",
    "<img src = \"LSTM2.jpg\">\n",
    "<img src = \"LSTM3.jpg\">\n",
    "<img src = \"LSTM4.jpg\">\n",
    "<img src = \"LSTM5.jpg\">\n",
    "<img src = \"LSTM6.jpg\">\n",
    "<img src = \"LSTM7.jpg\">\n",
    "<img src = \"LSTM8.jpg\">\n",
    "<img src = \"LSTM9.jpg\">\n",
    "<img src = \"LSTM10.jpg\">\n",
    "<img src = \"LSTM11.jpg\">"
   ]
  },
  {
   "cell_type": "markdown",
   "metadata": {},
   "source": [
    "### Gated Recurrent Unit"
   ]
  },
  {
   "cell_type": "markdown",
   "metadata": {},
   "source": [
    "<img src = \"GRU.jpg\">\n",
    "<img src = \"GRU1.jpg\">\n",
    "<img src = \"GRU2.jpg\">"
   ]
  },
  {
   "cell_type": "markdown",
   "metadata": {},
   "source": [
    "### Sequence2Sequence"
   ]
  },
  {
   "cell_type": "markdown",
   "metadata": {},
   "source": [
    "<img src = \"S2S.jpg\">\n",
    "<img src = \"S2S1.jpg\">\n",
    "<img src = \"S2S2.jpg\">\n",
    "<img src = \"S2S3.jpg\">\n",
    "<img src = \"S2S4.jpg\">"
   ]
  },
  {
   "cell_type": "markdown",
   "metadata": {},
   "source": [
    "### Beam Search"
   ]
  },
  {
   "cell_type": "markdown",
   "metadata": {},
   "source": [
    "<img src = \"Beam Search.jpg\">"
   ]
  },
  {
   "cell_type": "markdown",
   "metadata": {},
   "source": [
    "### Attention"
   ]
  },
  {
   "cell_type": "markdown",
   "metadata": {},
   "source": [
    "<img src = \"Attention.jpg\">\n",
    "<img src = \"Attention1.jpg\">\n",
    "<img src = \"Attention2.jpg\">"
   ]
  },
  {
   "cell_type": "markdown",
   "metadata": {},
   "source": [
    "### Common Business Applications"
   ]
  },
  {
   "cell_type": "markdown",
   "metadata": {},
   "source": [
    "<img src = \"Applications.jpg\">"
   ]
  }
 ],
 "metadata": {
  "kernelspec": {
   "display_name": "Python 3.8.5 ('base')",
   "language": "python",
   "name": "python3"
  },
  "language_info": {
   "codemirror_mode": {
    "name": "ipython",
    "version": 3
   },
   "file_extension": ".py",
   "mimetype": "text/x-python",
   "name": "python",
   "nbconvert_exporter": "python",
   "pygments_lexer": "ipython3",
   "version": "3.8.5"
  },
  "orig_nbformat": 4,
  "vscode": {
   "interpreter": {
    "hash": "2a9d73323239a038e2598e03460358b35a0f5840d779364a844fb4ed62666ace"
   }
  }
 },
 "nbformat": 4,
 "nbformat_minor": 2
}
